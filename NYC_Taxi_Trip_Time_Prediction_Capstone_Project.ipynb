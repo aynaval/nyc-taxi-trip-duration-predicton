{
  "cells": [
    {
      "cell_type": "markdown",
      "metadata": {
        "id": "view-in-github",
        "colab_type": "text"
      },
      "source": [
        "<a href=\"https://colab.research.google.com/github/aynaval/nyc-taxi-trip-duration-predicton/blob/main/NYC_Taxi_Trip_Time_Prediction_Capstone_Project.ipynb\" target=\"_parent\"><img src=\"https://colab.research.google.com/assets/colab-badge.svg\" alt=\"Open In Colab\"/></a>"
      ]
    },
    {
      "cell_type": "markdown",
      "metadata": {
        "id": "tOGC-qoyhJeX"
      },
      "source": [
        "# <b><u> Project Title : Taxi trip time Prediction : Predicting total ride duration of taxi trips in New York City</u></b>"
      ]
    },
    {
      "cell_type": "markdown",
      "metadata": {
        "id": "Y06xIdG26kRF"
      },
      "source": [
        "## <b> Problem Description </b>\n",
        "\n",
        "### Your task is to build a model that predicts the total ride duration of taxi trips in New York City. Your primary dataset is one released by the NYC Taxi and Limousine Commission, which includes pickup time, geo-coordinates, number of passengers, and several other variables."
      ]
    },
    {
      "cell_type": "markdown",
      "metadata": {
        "id": "WWeU1f9bwqQq"
      },
      "source": [
        "## <b> Data Description </b>\n",
        "\n",
        "### The dataset is based on the 2016 NYC Yellow Cab trip record data made available in Big Query on Google Cloud Platform. The data was originally published by the NYC Taxi and Limousine Commission (TLC). The data was sampled and cleaned for the purposes of this project. Based on individual trip attributes, you should predict the duration of each trip in the test set.\n",
        "\n",
        "### <b>NYC Taxi Data.csv</b> - the training set (contains 1458644 trip records)\n",
        "\n",
        "\n",
        "### Data fields\n",
        "* #### id - a unique identifier for each trip\n",
        "* #### vendor_id - a code indicating the provider associated with the trip record\n",
        "* #### pickup_datetime - date and time when the meter was engaged\n",
        "* #### dropoff_datetime - date and time when the meter was disengaged\n",
        "* #### passenger_count - the number of passengers in the vehicle (driver entered value)\n",
        "* #### pickup_longitude - the longitude where the meter was engaged\n",
        "* #### pickup_latitude - the latitude where the meter was engaged\n",
        "* #### dropoff_longitude - the longitude where the meter was disengaged\n",
        "* #### dropoff_latitude - the latitude where the meter was disengaged\n",
        "* #### store_and_fwd_flag - This flag indicates whether the trip record was held in vehicle memory before sending to the vendor because the vehicle did not have a connection to the server - Y=store and forward; N=not a store and forward trip\n",
        "* #### trip_duration - duration of the trip in seconds"
      ]
    },
    {
      "cell_type": "code",
      "execution_count": 1,
      "metadata": {
        "id": "dByMsuzT8Tnw"
      },
      "outputs": [],
      "source": [
        "import pandas as pd\n",
        "import numpy as np\n",
        "import matplotlib.pyplot as plt\n",
        "%matplotlib inline\n",
        "import seaborn as sns\n",
        "import datetime\n",
        "from sklearn.preprocessing import MinMaxScaler\n",
        "from sklearn.metrics import r2_score\n",
        "from sklearn.metrics import mean_squared_error\n",
        "\n",
        "import warnings\n",
        "warnings.filterwarnings('ignore')\n",
        "\n",
        "pd.set_option(\"display.max_columns\", 36)\n",
        "plt.style.use('seaborn')\n",
        "\n",
        "plt.rcParams[\"font.weight\"] = \"bold\"\n",
        "plt.rcParams[\"axes.labelweight\"] = \"bold\"\n",
        "plt.rcParams[\"axes.titlesize\"] = 25\n",
        "plt.rcParams[\"axes.titleweight\"] = 'bold'\n",
        "plt.rcParams['xtick.labelsize']=15\n",
        "plt.rcParams['ytick.labelsize']=15\n",
        "plt.rcParams[\"axes.labelsize\"] = 20\n",
        "plt.rcParams[\"legend.fontsize\"] = 15\n",
        "plt.rcParams[\"legend.title_fontsize\"] = 15\n",
        "plt.rcParams['figure.figsize'] = [20, 10]\n",
        "from geopy.distance import great_circle\n",
        "\n"
      ]
    },
    {
      "cell_type": "code",
      "execution_count": 2,
      "metadata": {
        "colab": {
          "base_uri": "https://localhost:8080/"
        },
        "id": "ZydjpfbTT4xi",
        "outputId": "a1c41dd4-9b7c-43f1-fd2c-01553833e571"
      },
      "outputs": [
        {
          "output_type": "stream",
          "name": "stdout",
          "text": [
            "Drive already mounted at /content/drive; to attempt to forcibly remount, call drive.mount(\"/content/drive\", force_remount=True).\n"
          ]
        }
      ],
      "source": [
        "from google.colab import drive\n",
        "drive.mount('/content/drive')"
      ]
    },
    {
      "cell_type": "code",
      "execution_count": 3,
      "metadata": {
        "id": "MSfS2s7oTy0O"
      },
      "outputs": [],
      "source": [
        "data = pd.read_csv('/content/drive/MyDrive/NYC Taxi Trip Time Prediction - Lavanya M/Copy of NYC Taxi Data.csv')"
      ]
    },
    {
      "cell_type": "markdown",
      "metadata": {
        "id": "iNd19Fsoq4Hb"
      },
      "source": [
        "# **EDA**"
      ]
    },
    {
      "cell_type": "code",
      "execution_count": 4,
      "metadata": {
        "id": "Ufw5v1s3UsHA"
      },
      "outputs": [],
      "source": [
        "# !pip install pandas-profiling==2.7.1\n",
        "# from pandas_profiling import ProfileReport\n",
        "# prof = ProfileReport(data)\n",
        "# prof.to_file(output_file='output.html')"
      ]
    },
    {
      "cell_type": "code",
      "execution_count": 5,
      "metadata": {
        "colab": {
          "base_uri": "https://localhost:8080/",
          "height": 356
        },
        "id": "mOUFx_B-UNOn",
        "outputId": "9084ee11-b3bf-4543-d120-14d871419c41"
      },
      "outputs": [
        {
          "output_type": "execute_result",
          "data": {
            "text/html": [
              "\n",
              "  <div id=\"df-2603ac52-cfbb-4aa5-bcd1-a7d16d2be002\">\n",
              "    <div class=\"colab-df-container\">\n",
              "      <div>\n",
              "<style scoped>\n",
              "    .dataframe tbody tr th:only-of-type {\n",
              "        vertical-align: middle;\n",
              "    }\n",
              "\n",
              "    .dataframe tbody tr th {\n",
              "        vertical-align: top;\n",
              "    }\n",
              "\n",
              "    .dataframe thead th {\n",
              "        text-align: right;\n",
              "    }\n",
              "</style>\n",
              "<table border=\"1\" class=\"dataframe\">\n",
              "  <thead>\n",
              "    <tr style=\"text-align: right;\">\n",
              "      <th></th>\n",
              "      <th>id</th>\n",
              "      <th>vendor_id</th>\n",
              "      <th>pickup_datetime</th>\n",
              "      <th>dropoff_datetime</th>\n",
              "      <th>passenger_count</th>\n",
              "      <th>pickup_longitude</th>\n",
              "      <th>pickup_latitude</th>\n",
              "      <th>dropoff_longitude</th>\n",
              "      <th>dropoff_latitude</th>\n",
              "      <th>store_and_fwd_flag</th>\n",
              "      <th>trip_duration</th>\n",
              "    </tr>\n",
              "  </thead>\n",
              "  <tbody>\n",
              "    <tr>\n",
              "      <th>0</th>\n",
              "      <td>id2875421</td>\n",
              "      <td>2</td>\n",
              "      <td>2016-03-14 17:24:55</td>\n",
              "      <td>2016-03-14 17:32:30</td>\n",
              "      <td>1</td>\n",
              "      <td>-73.982155</td>\n",
              "      <td>40.767937</td>\n",
              "      <td>-73.964630</td>\n",
              "      <td>40.765602</td>\n",
              "      <td>N</td>\n",
              "      <td>455</td>\n",
              "    </tr>\n",
              "    <tr>\n",
              "      <th>1</th>\n",
              "      <td>id2377394</td>\n",
              "      <td>1</td>\n",
              "      <td>2016-06-12 00:43:35</td>\n",
              "      <td>2016-06-12 00:54:38</td>\n",
              "      <td>1</td>\n",
              "      <td>-73.980415</td>\n",
              "      <td>40.738564</td>\n",
              "      <td>-73.999481</td>\n",
              "      <td>40.731152</td>\n",
              "      <td>N</td>\n",
              "      <td>663</td>\n",
              "    </tr>\n",
              "    <tr>\n",
              "      <th>2</th>\n",
              "      <td>id3858529</td>\n",
              "      <td>2</td>\n",
              "      <td>2016-01-19 11:35:24</td>\n",
              "      <td>2016-01-19 12:10:48</td>\n",
              "      <td>1</td>\n",
              "      <td>-73.979027</td>\n",
              "      <td>40.763939</td>\n",
              "      <td>-74.005333</td>\n",
              "      <td>40.710087</td>\n",
              "      <td>N</td>\n",
              "      <td>2124</td>\n",
              "    </tr>\n",
              "    <tr>\n",
              "      <th>3</th>\n",
              "      <td>id3504673</td>\n",
              "      <td>2</td>\n",
              "      <td>2016-04-06 19:32:31</td>\n",
              "      <td>2016-04-06 19:39:40</td>\n",
              "      <td>1</td>\n",
              "      <td>-74.010040</td>\n",
              "      <td>40.719971</td>\n",
              "      <td>-74.012268</td>\n",
              "      <td>40.706718</td>\n",
              "      <td>N</td>\n",
              "      <td>429</td>\n",
              "    </tr>\n",
              "    <tr>\n",
              "      <th>4</th>\n",
              "      <td>id2181028</td>\n",
              "      <td>2</td>\n",
              "      <td>2016-03-26 13:30:55</td>\n",
              "      <td>2016-03-26 13:38:10</td>\n",
              "      <td>1</td>\n",
              "      <td>-73.973053</td>\n",
              "      <td>40.793209</td>\n",
              "      <td>-73.972923</td>\n",
              "      <td>40.782520</td>\n",
              "      <td>N</td>\n",
              "      <td>435</td>\n",
              "    </tr>\n",
              "  </tbody>\n",
              "</table>\n",
              "</div>\n",
              "      <button class=\"colab-df-convert\" onclick=\"convertToInteractive('df-2603ac52-cfbb-4aa5-bcd1-a7d16d2be002')\"\n",
              "              title=\"Convert this dataframe to an interactive table.\"\n",
              "              style=\"display:none;\">\n",
              "        \n",
              "  <svg xmlns=\"http://www.w3.org/2000/svg\" height=\"24px\"viewBox=\"0 0 24 24\"\n",
              "       width=\"24px\">\n",
              "    <path d=\"M0 0h24v24H0V0z\" fill=\"none\"/>\n",
              "    <path d=\"M18.56 5.44l.94 2.06.94-2.06 2.06-.94-2.06-.94-.94-2.06-.94 2.06-2.06.94zm-11 1L8.5 8.5l.94-2.06 2.06-.94-2.06-.94L8.5 2.5l-.94 2.06-2.06.94zm10 10l.94 2.06.94-2.06 2.06-.94-2.06-.94-.94-2.06-.94 2.06-2.06.94z\"/><path d=\"M17.41 7.96l-1.37-1.37c-.4-.4-.92-.59-1.43-.59-.52 0-1.04.2-1.43.59L10.3 9.45l-7.72 7.72c-.78.78-.78 2.05 0 2.83L4 21.41c.39.39.9.59 1.41.59.51 0 1.02-.2 1.41-.59l7.78-7.78 2.81-2.81c.8-.78.8-2.07 0-2.86zM5.41 20L4 18.59l7.72-7.72 1.47 1.35L5.41 20z\"/>\n",
              "  </svg>\n",
              "      </button>\n",
              "      \n",
              "  <style>\n",
              "    .colab-df-container {\n",
              "      display:flex;\n",
              "      flex-wrap:wrap;\n",
              "      gap: 12px;\n",
              "    }\n",
              "\n",
              "    .colab-df-convert {\n",
              "      background-color: #E8F0FE;\n",
              "      border: none;\n",
              "      border-radius: 50%;\n",
              "      cursor: pointer;\n",
              "      display: none;\n",
              "      fill: #1967D2;\n",
              "      height: 32px;\n",
              "      padding: 0 0 0 0;\n",
              "      width: 32px;\n",
              "    }\n",
              "\n",
              "    .colab-df-convert:hover {\n",
              "      background-color: #E2EBFA;\n",
              "      box-shadow: 0px 1px 2px rgba(60, 64, 67, 0.3), 0px 1px 3px 1px rgba(60, 64, 67, 0.15);\n",
              "      fill: #174EA6;\n",
              "    }\n",
              "\n",
              "    [theme=dark] .colab-df-convert {\n",
              "      background-color: #3B4455;\n",
              "      fill: #D2E3FC;\n",
              "    }\n",
              "\n",
              "    [theme=dark] .colab-df-convert:hover {\n",
              "      background-color: #434B5C;\n",
              "      box-shadow: 0px 1px 3px 1px rgba(0, 0, 0, 0.15);\n",
              "      filter: drop-shadow(0px 1px 2px rgba(0, 0, 0, 0.3));\n",
              "      fill: #FFFFFF;\n",
              "    }\n",
              "  </style>\n",
              "\n",
              "      <script>\n",
              "        const buttonEl =\n",
              "          document.querySelector('#df-2603ac52-cfbb-4aa5-bcd1-a7d16d2be002 button.colab-df-convert');\n",
              "        buttonEl.style.display =\n",
              "          google.colab.kernel.accessAllowed ? 'block' : 'none';\n",
              "\n",
              "        async function convertToInteractive(key) {\n",
              "          const element = document.querySelector('#df-2603ac52-cfbb-4aa5-bcd1-a7d16d2be002');\n",
              "          const dataTable =\n",
              "            await google.colab.kernel.invokeFunction('convertToInteractive',\n",
              "                                                     [key], {});\n",
              "          if (!dataTable) return;\n",
              "\n",
              "          const docLinkHtml = 'Like what you see? Visit the ' +\n",
              "            '<a target=\"_blank\" href=https://colab.research.google.com/notebooks/data_table.ipynb>data table notebook</a>'\n",
              "            + ' to learn more about interactive tables.';\n",
              "          element.innerHTML = '';\n",
              "          dataTable['output_type'] = 'display_data';\n",
              "          await google.colab.output.renderOutput(dataTable, element);\n",
              "          const docLink = document.createElement('div');\n",
              "          docLink.innerHTML = docLinkHtml;\n",
              "          element.appendChild(docLink);\n",
              "        }\n",
              "      </script>\n",
              "    </div>\n",
              "  </div>\n",
              "  "
            ],
            "text/plain": [
              "          id  vendor_id      pickup_datetime     dropoff_datetime  \\\n",
              "0  id2875421          2  2016-03-14 17:24:55  2016-03-14 17:32:30   \n",
              "1  id2377394          1  2016-06-12 00:43:35  2016-06-12 00:54:38   \n",
              "2  id3858529          2  2016-01-19 11:35:24  2016-01-19 12:10:48   \n",
              "3  id3504673          2  2016-04-06 19:32:31  2016-04-06 19:39:40   \n",
              "4  id2181028          2  2016-03-26 13:30:55  2016-03-26 13:38:10   \n",
              "\n",
              "   passenger_count  pickup_longitude  pickup_latitude  dropoff_longitude  \\\n",
              "0                1        -73.982155        40.767937         -73.964630   \n",
              "1                1        -73.980415        40.738564         -73.999481   \n",
              "2                1        -73.979027        40.763939         -74.005333   \n",
              "3                1        -74.010040        40.719971         -74.012268   \n",
              "4                1        -73.973053        40.793209         -73.972923   \n",
              "\n",
              "   dropoff_latitude store_and_fwd_flag  trip_duration  \n",
              "0         40.765602                  N            455  \n",
              "1         40.731152                  N            663  \n",
              "2         40.710087                  N           2124  \n",
              "3         40.706718                  N            429  \n",
              "4         40.782520                  N            435  "
            ]
          },
          "metadata": {},
          "execution_count": 5
        }
      ],
      "source": [
        "data.head()"
      ]
    },
    {
      "cell_type": "code",
      "execution_count": 6,
      "metadata": {
        "colab": {
          "base_uri": "https://localhost:8080/",
          "height": 356
        },
        "id": "xcwJD_DFUPRO",
        "outputId": "d33fd9b0-90ed-46f8-c33c-807369015d1b"
      },
      "outputs": [
        {
          "output_type": "execute_result",
          "data": {
            "text/html": [
              "\n",
              "  <div id=\"df-bf2d9e42-84c5-47f3-9795-9969d09405f0\">\n",
              "    <div class=\"colab-df-container\">\n",
              "      <div>\n",
              "<style scoped>\n",
              "    .dataframe tbody tr th:only-of-type {\n",
              "        vertical-align: middle;\n",
              "    }\n",
              "\n",
              "    .dataframe tbody tr th {\n",
              "        vertical-align: top;\n",
              "    }\n",
              "\n",
              "    .dataframe thead th {\n",
              "        text-align: right;\n",
              "    }\n",
              "</style>\n",
              "<table border=\"1\" class=\"dataframe\">\n",
              "  <thead>\n",
              "    <tr style=\"text-align: right;\">\n",
              "      <th></th>\n",
              "      <th>id</th>\n",
              "      <th>vendor_id</th>\n",
              "      <th>pickup_datetime</th>\n",
              "      <th>dropoff_datetime</th>\n",
              "      <th>passenger_count</th>\n",
              "      <th>pickup_longitude</th>\n",
              "      <th>pickup_latitude</th>\n",
              "      <th>dropoff_longitude</th>\n",
              "      <th>dropoff_latitude</th>\n",
              "      <th>store_and_fwd_flag</th>\n",
              "      <th>trip_duration</th>\n",
              "    </tr>\n",
              "  </thead>\n",
              "  <tbody>\n",
              "    <tr>\n",
              "      <th>1458639</th>\n",
              "      <td>id2376096</td>\n",
              "      <td>2</td>\n",
              "      <td>2016-04-08 13:31:04</td>\n",
              "      <td>2016-04-08 13:44:02</td>\n",
              "      <td>4</td>\n",
              "      <td>-73.982201</td>\n",
              "      <td>40.745522</td>\n",
              "      <td>-73.994911</td>\n",
              "      <td>40.740170</td>\n",
              "      <td>N</td>\n",
              "      <td>778</td>\n",
              "    </tr>\n",
              "    <tr>\n",
              "      <th>1458640</th>\n",
              "      <td>id1049543</td>\n",
              "      <td>1</td>\n",
              "      <td>2016-01-10 07:35:15</td>\n",
              "      <td>2016-01-10 07:46:10</td>\n",
              "      <td>1</td>\n",
              "      <td>-74.000946</td>\n",
              "      <td>40.747379</td>\n",
              "      <td>-73.970184</td>\n",
              "      <td>40.796547</td>\n",
              "      <td>N</td>\n",
              "      <td>655</td>\n",
              "    </tr>\n",
              "    <tr>\n",
              "      <th>1458641</th>\n",
              "      <td>id2304944</td>\n",
              "      <td>2</td>\n",
              "      <td>2016-04-22 06:57:41</td>\n",
              "      <td>2016-04-22 07:10:25</td>\n",
              "      <td>1</td>\n",
              "      <td>-73.959129</td>\n",
              "      <td>40.768799</td>\n",
              "      <td>-74.004433</td>\n",
              "      <td>40.707371</td>\n",
              "      <td>N</td>\n",
              "      <td>764</td>\n",
              "    </tr>\n",
              "    <tr>\n",
              "      <th>1458642</th>\n",
              "      <td>id2714485</td>\n",
              "      <td>1</td>\n",
              "      <td>2016-01-05 15:56:26</td>\n",
              "      <td>2016-01-05 16:02:39</td>\n",
              "      <td>1</td>\n",
              "      <td>-73.982079</td>\n",
              "      <td>40.749062</td>\n",
              "      <td>-73.974632</td>\n",
              "      <td>40.757107</td>\n",
              "      <td>N</td>\n",
              "      <td>373</td>\n",
              "    </tr>\n",
              "    <tr>\n",
              "      <th>1458643</th>\n",
              "      <td>id1209952</td>\n",
              "      <td>1</td>\n",
              "      <td>2016-04-05 14:44:25</td>\n",
              "      <td>2016-04-05 14:47:43</td>\n",
              "      <td>1</td>\n",
              "      <td>-73.979538</td>\n",
              "      <td>40.781750</td>\n",
              "      <td>-73.972809</td>\n",
              "      <td>40.790585</td>\n",
              "      <td>N</td>\n",
              "      <td>198</td>\n",
              "    </tr>\n",
              "  </tbody>\n",
              "</table>\n",
              "</div>\n",
              "      <button class=\"colab-df-convert\" onclick=\"convertToInteractive('df-bf2d9e42-84c5-47f3-9795-9969d09405f0')\"\n",
              "              title=\"Convert this dataframe to an interactive table.\"\n",
              "              style=\"display:none;\">\n",
              "        \n",
              "  <svg xmlns=\"http://www.w3.org/2000/svg\" height=\"24px\"viewBox=\"0 0 24 24\"\n",
              "       width=\"24px\">\n",
              "    <path d=\"M0 0h24v24H0V0z\" fill=\"none\"/>\n",
              "    <path d=\"M18.56 5.44l.94 2.06.94-2.06 2.06-.94-2.06-.94-.94-2.06-.94 2.06-2.06.94zm-11 1L8.5 8.5l.94-2.06 2.06-.94-2.06-.94L8.5 2.5l-.94 2.06-2.06.94zm10 10l.94 2.06.94-2.06 2.06-.94-2.06-.94-.94-2.06-.94 2.06-2.06.94z\"/><path d=\"M17.41 7.96l-1.37-1.37c-.4-.4-.92-.59-1.43-.59-.52 0-1.04.2-1.43.59L10.3 9.45l-7.72 7.72c-.78.78-.78 2.05 0 2.83L4 21.41c.39.39.9.59 1.41.59.51 0 1.02-.2 1.41-.59l7.78-7.78 2.81-2.81c.8-.78.8-2.07 0-2.86zM5.41 20L4 18.59l7.72-7.72 1.47 1.35L5.41 20z\"/>\n",
              "  </svg>\n",
              "      </button>\n",
              "      \n",
              "  <style>\n",
              "    .colab-df-container {\n",
              "      display:flex;\n",
              "      flex-wrap:wrap;\n",
              "      gap: 12px;\n",
              "    }\n",
              "\n",
              "    .colab-df-convert {\n",
              "      background-color: #E8F0FE;\n",
              "      border: none;\n",
              "      border-radius: 50%;\n",
              "      cursor: pointer;\n",
              "      display: none;\n",
              "      fill: #1967D2;\n",
              "      height: 32px;\n",
              "      padding: 0 0 0 0;\n",
              "      width: 32px;\n",
              "    }\n",
              "\n",
              "    .colab-df-convert:hover {\n",
              "      background-color: #E2EBFA;\n",
              "      box-shadow: 0px 1px 2px rgba(60, 64, 67, 0.3), 0px 1px 3px 1px rgba(60, 64, 67, 0.15);\n",
              "      fill: #174EA6;\n",
              "    }\n",
              "\n",
              "    [theme=dark] .colab-df-convert {\n",
              "      background-color: #3B4455;\n",
              "      fill: #D2E3FC;\n",
              "    }\n",
              "\n",
              "    [theme=dark] .colab-df-convert:hover {\n",
              "      background-color: #434B5C;\n",
              "      box-shadow: 0px 1px 3px 1px rgba(0, 0, 0, 0.15);\n",
              "      filter: drop-shadow(0px 1px 2px rgba(0, 0, 0, 0.3));\n",
              "      fill: #FFFFFF;\n",
              "    }\n",
              "  </style>\n",
              "\n",
              "      <script>\n",
              "        const buttonEl =\n",
              "          document.querySelector('#df-bf2d9e42-84c5-47f3-9795-9969d09405f0 button.colab-df-convert');\n",
              "        buttonEl.style.display =\n",
              "          google.colab.kernel.accessAllowed ? 'block' : 'none';\n",
              "\n",
              "        async function convertToInteractive(key) {\n",
              "          const element = document.querySelector('#df-bf2d9e42-84c5-47f3-9795-9969d09405f0');\n",
              "          const dataTable =\n",
              "            await google.colab.kernel.invokeFunction('convertToInteractive',\n",
              "                                                     [key], {});\n",
              "          if (!dataTable) return;\n",
              "\n",
              "          const docLinkHtml = 'Like what you see? Visit the ' +\n",
              "            '<a target=\"_blank\" href=https://colab.research.google.com/notebooks/data_table.ipynb>data table notebook</a>'\n",
              "            + ' to learn more about interactive tables.';\n",
              "          element.innerHTML = '';\n",
              "          dataTable['output_type'] = 'display_data';\n",
              "          await google.colab.output.renderOutput(dataTable, element);\n",
              "          const docLink = document.createElement('div');\n",
              "          docLink.innerHTML = docLinkHtml;\n",
              "          element.appendChild(docLink);\n",
              "        }\n",
              "      </script>\n",
              "    </div>\n",
              "  </div>\n",
              "  "
            ],
            "text/plain": [
              "                id  vendor_id      pickup_datetime     dropoff_datetime  \\\n",
              "1458639  id2376096          2  2016-04-08 13:31:04  2016-04-08 13:44:02   \n",
              "1458640  id1049543          1  2016-01-10 07:35:15  2016-01-10 07:46:10   \n",
              "1458641  id2304944          2  2016-04-22 06:57:41  2016-04-22 07:10:25   \n",
              "1458642  id2714485          1  2016-01-05 15:56:26  2016-01-05 16:02:39   \n",
              "1458643  id1209952          1  2016-04-05 14:44:25  2016-04-05 14:47:43   \n",
              "\n",
              "         passenger_count  pickup_longitude  pickup_latitude  \\\n",
              "1458639                4        -73.982201        40.745522   \n",
              "1458640                1        -74.000946        40.747379   \n",
              "1458641                1        -73.959129        40.768799   \n",
              "1458642                1        -73.982079        40.749062   \n",
              "1458643                1        -73.979538        40.781750   \n",
              "\n",
              "         dropoff_longitude  dropoff_latitude store_and_fwd_flag  trip_duration  \n",
              "1458639         -73.994911         40.740170                  N            778  \n",
              "1458640         -73.970184         40.796547                  N            655  \n",
              "1458641         -74.004433         40.707371                  N            764  \n",
              "1458642         -73.974632         40.757107                  N            373  \n",
              "1458643         -73.972809         40.790585                  N            198  "
            ]
          },
          "metadata": {},
          "execution_count": 6
        }
      ],
      "source": [
        "data.tail()"
      ]
    },
    {
      "cell_type": "code",
      "execution_count": 7,
      "metadata": {
        "colab": {
          "base_uri": "https://localhost:8080/",
          "height": 259
        },
        "id": "EBzsTwACr6no",
        "outputId": "3c6e1afa-bc09-4f0f-e46a-a19df4e6fb35"
      },
      "outputs": [
        {
          "output_type": "execute_result",
          "data": {
            "text/html": [
              "\n",
              "  <div id=\"df-504a2c94-81f2-46a9-a416-45c63a963fbf\">\n",
              "    <div class=\"colab-df-container\">\n",
              "      <div>\n",
              "<style scoped>\n",
              "    .dataframe tbody tr th:only-of-type {\n",
              "        vertical-align: middle;\n",
              "    }\n",
              "\n",
              "    .dataframe tbody tr th {\n",
              "        vertical-align: top;\n",
              "    }\n",
              "\n",
              "    .dataframe thead th {\n",
              "        text-align: right;\n",
              "    }\n",
              "</style>\n",
              "<table border=\"1\" class=\"dataframe\">\n",
              "  <thead>\n",
              "    <tr style=\"text-align: right;\">\n",
              "      <th></th>\n",
              "      <th>id</th>\n",
              "      <th>vendor_id</th>\n",
              "      <th>pickup_datetime</th>\n",
              "      <th>dropoff_datetime</th>\n",
              "      <th>passenger_count</th>\n",
              "      <th>pickup_longitude</th>\n",
              "      <th>pickup_latitude</th>\n",
              "      <th>dropoff_longitude</th>\n",
              "      <th>dropoff_latitude</th>\n",
              "      <th>store_and_fwd_flag</th>\n",
              "      <th>trip_duration</th>\n",
              "    </tr>\n",
              "  </thead>\n",
              "  <tbody>\n",
              "    <tr>\n",
              "      <th>167768</th>\n",
              "      <td>id1966168</td>\n",
              "      <td>2</td>\n",
              "      <td>2016-04-26 15:24:12</td>\n",
              "      <td>2016-04-26 15:39:27</td>\n",
              "      <td>1</td>\n",
              "      <td>-73.986961</td>\n",
              "      <td>40.731544</td>\n",
              "      <td>-74.008263</td>\n",
              "      <td>40.736137</td>\n",
              "      <td>N</td>\n",
              "      <td>915</td>\n",
              "    </tr>\n",
              "    <tr>\n",
              "      <th>157395</th>\n",
              "      <td>id2126971</td>\n",
              "      <td>2</td>\n",
              "      <td>2016-04-16 03:32:00</td>\n",
              "      <td>2016-04-16 03:49:41</td>\n",
              "      <td>2</td>\n",
              "      <td>-73.990112</td>\n",
              "      <td>40.760723</td>\n",
              "      <td>-73.898048</td>\n",
              "      <td>40.750378</td>\n",
              "      <td>N</td>\n",
              "      <td>1061</td>\n",
              "    </tr>\n",
              "    <tr>\n",
              "      <th>137178</th>\n",
              "      <td>id2228243</td>\n",
              "      <td>2</td>\n",
              "      <td>2016-04-19 12:33:15</td>\n",
              "      <td>2016-04-19 12:45:36</td>\n",
              "      <td>1</td>\n",
              "      <td>-73.970352</td>\n",
              "      <td>40.761688</td>\n",
              "      <td>-73.980904</td>\n",
              "      <td>40.767891</td>\n",
              "      <td>N</td>\n",
              "      <td>741</td>\n",
              "    </tr>\n",
              "  </tbody>\n",
              "</table>\n",
              "</div>\n",
              "      <button class=\"colab-df-convert\" onclick=\"convertToInteractive('df-504a2c94-81f2-46a9-a416-45c63a963fbf')\"\n",
              "              title=\"Convert this dataframe to an interactive table.\"\n",
              "              style=\"display:none;\">\n",
              "        \n",
              "  <svg xmlns=\"http://www.w3.org/2000/svg\" height=\"24px\"viewBox=\"0 0 24 24\"\n",
              "       width=\"24px\">\n",
              "    <path d=\"M0 0h24v24H0V0z\" fill=\"none\"/>\n",
              "    <path d=\"M18.56 5.44l.94 2.06.94-2.06 2.06-.94-2.06-.94-.94-2.06-.94 2.06-2.06.94zm-11 1L8.5 8.5l.94-2.06 2.06-.94-2.06-.94L8.5 2.5l-.94 2.06-2.06.94zm10 10l.94 2.06.94-2.06 2.06-.94-2.06-.94-.94-2.06-.94 2.06-2.06.94z\"/><path d=\"M17.41 7.96l-1.37-1.37c-.4-.4-.92-.59-1.43-.59-.52 0-1.04.2-1.43.59L10.3 9.45l-7.72 7.72c-.78.78-.78 2.05 0 2.83L4 21.41c.39.39.9.59 1.41.59.51 0 1.02-.2 1.41-.59l7.78-7.78 2.81-2.81c.8-.78.8-2.07 0-2.86zM5.41 20L4 18.59l7.72-7.72 1.47 1.35L5.41 20z\"/>\n",
              "  </svg>\n",
              "      </button>\n",
              "      \n",
              "  <style>\n",
              "    .colab-df-container {\n",
              "      display:flex;\n",
              "      flex-wrap:wrap;\n",
              "      gap: 12px;\n",
              "    }\n",
              "\n",
              "    .colab-df-convert {\n",
              "      background-color: #E8F0FE;\n",
              "      border: none;\n",
              "      border-radius: 50%;\n",
              "      cursor: pointer;\n",
              "      display: none;\n",
              "      fill: #1967D2;\n",
              "      height: 32px;\n",
              "      padding: 0 0 0 0;\n",
              "      width: 32px;\n",
              "    }\n",
              "\n",
              "    .colab-df-convert:hover {\n",
              "      background-color: #E2EBFA;\n",
              "      box-shadow: 0px 1px 2px rgba(60, 64, 67, 0.3), 0px 1px 3px 1px rgba(60, 64, 67, 0.15);\n",
              "      fill: #174EA6;\n",
              "    }\n",
              "\n",
              "    [theme=dark] .colab-df-convert {\n",
              "      background-color: #3B4455;\n",
              "      fill: #D2E3FC;\n",
              "    }\n",
              "\n",
              "    [theme=dark] .colab-df-convert:hover {\n",
              "      background-color: #434B5C;\n",
              "      box-shadow: 0px 1px 3px 1px rgba(0, 0, 0, 0.15);\n",
              "      filter: drop-shadow(0px 1px 2px rgba(0, 0, 0, 0.3));\n",
              "      fill: #FFFFFF;\n",
              "    }\n",
              "  </style>\n",
              "\n",
              "      <script>\n",
              "        const buttonEl =\n",
              "          document.querySelector('#df-504a2c94-81f2-46a9-a416-45c63a963fbf button.colab-df-convert');\n",
              "        buttonEl.style.display =\n",
              "          google.colab.kernel.accessAllowed ? 'block' : 'none';\n",
              "\n",
              "        async function convertToInteractive(key) {\n",
              "          const element = document.querySelector('#df-504a2c94-81f2-46a9-a416-45c63a963fbf');\n",
              "          const dataTable =\n",
              "            await google.colab.kernel.invokeFunction('convertToInteractive',\n",
              "                                                     [key], {});\n",
              "          if (!dataTable) return;\n",
              "\n",
              "          const docLinkHtml = 'Like what you see? Visit the ' +\n",
              "            '<a target=\"_blank\" href=https://colab.research.google.com/notebooks/data_table.ipynb>data table notebook</a>'\n",
              "            + ' to learn more about interactive tables.';\n",
              "          element.innerHTML = '';\n",
              "          dataTable['output_type'] = 'display_data';\n",
              "          await google.colab.output.renderOutput(dataTable, element);\n",
              "          const docLink = document.createElement('div');\n",
              "          docLink.innerHTML = docLinkHtml;\n",
              "          element.appendChild(docLink);\n",
              "        }\n",
              "      </script>\n",
              "    </div>\n",
              "  </div>\n",
              "  "
            ],
            "text/plain": [
              "               id  vendor_id      pickup_datetime     dropoff_datetime  \\\n",
              "167768  id1966168          2  2016-04-26 15:24:12  2016-04-26 15:39:27   \n",
              "157395  id2126971          2  2016-04-16 03:32:00  2016-04-16 03:49:41   \n",
              "137178  id2228243          2  2016-04-19 12:33:15  2016-04-19 12:45:36   \n",
              "\n",
              "        passenger_count  pickup_longitude  pickup_latitude  dropoff_longitude  \\\n",
              "167768                1        -73.986961        40.731544         -74.008263   \n",
              "157395                2        -73.990112        40.760723         -73.898048   \n",
              "137178                1        -73.970352        40.761688         -73.980904   \n",
              "\n",
              "        dropoff_latitude store_and_fwd_flag  trip_duration  \n",
              "167768         40.736137                  N            915  \n",
              "157395         40.750378                  N           1061  \n",
              "137178         40.767891                  N            741  "
            ]
          },
          "metadata": {},
          "execution_count": 7
        }
      ],
      "source": [
        "data.sample(3)"
      ]
    },
    {
      "cell_type": "code",
      "execution_count": 8,
      "metadata": {
        "colab": {
          "base_uri": "https://localhost:8080/"
        },
        "id": "ueBmvMuzUWzX",
        "outputId": "2597ab7b-478a-44f0-d2d8-c234c62c84aa"
      },
      "outputs": [
        {
          "output_type": "execute_result",
          "data": {
            "text/plain": [
              "(1458644, 11)"
            ]
          },
          "metadata": {},
          "execution_count": 8
        }
      ],
      "source": [
        "data.shape"
      ]
    },
    {
      "cell_type": "code",
      "execution_count": 9,
      "metadata": {
        "colab": {
          "base_uri": "https://localhost:8080/"
        },
        "id": "NscSMAR_rAit",
        "outputId": "37307d85-a913-4912-beb4-2a77c11fe58b"
      },
      "outputs": [
        {
          "output_type": "execute_result",
          "data": {
            "text/plain": [
              "16045084"
            ]
          },
          "metadata": {},
          "execution_count": 9
        }
      ],
      "source": [
        "data.size"
      ]
    },
    {
      "cell_type": "code",
      "execution_count": 10,
      "metadata": {
        "colab": {
          "base_uri": "https://localhost:8080/"
        },
        "id": "31msq7InUY7B",
        "outputId": "c03452fa-a04a-449d-fca5-99707935038f"
      },
      "outputs": [
        {
          "output_type": "stream",
          "name": "stdout",
          "text": [
            "<class 'pandas.core.frame.DataFrame'>\n",
            "RangeIndex: 1458644 entries, 0 to 1458643\n",
            "Data columns (total 11 columns):\n",
            " #   Column              Non-Null Count    Dtype  \n",
            "---  ------              --------------    -----  \n",
            " 0   id                  1458644 non-null  object \n",
            " 1   vendor_id           1458644 non-null  int64  \n",
            " 2   pickup_datetime     1458644 non-null  object \n",
            " 3   dropoff_datetime    1458644 non-null  object \n",
            " 4   passenger_count     1458644 non-null  int64  \n",
            " 5   pickup_longitude    1458644 non-null  float64\n",
            " 6   pickup_latitude     1458644 non-null  float64\n",
            " 7   dropoff_longitude   1458644 non-null  float64\n",
            " 8   dropoff_latitude    1458644 non-null  float64\n",
            " 9   store_and_fwd_flag  1458644 non-null  object \n",
            " 10  trip_duration       1458644 non-null  int64  \n",
            "dtypes: float64(4), int64(3), object(4)\n",
            "memory usage: 122.4+ MB\n"
          ]
        }
      ],
      "source": [
        "data.info()"
      ]
    },
    {
      "cell_type": "code",
      "execution_count": 11,
      "metadata": {
        "colab": {
          "base_uri": "https://localhost:8080/",
          "height": 300
        },
        "id": "wWw9GrJlUcHy",
        "outputId": "7911611c-38c8-48a5-a36d-72a768c2c150"
      },
      "outputs": [
        {
          "output_type": "execute_result",
          "data": {
            "text/html": [
              "\n",
              "  <div id=\"df-539ebd95-14d0-484d-9e0b-cd63a9be66a5\">\n",
              "    <div class=\"colab-df-container\">\n",
              "      <div>\n",
              "<style scoped>\n",
              "    .dataframe tbody tr th:only-of-type {\n",
              "        vertical-align: middle;\n",
              "    }\n",
              "\n",
              "    .dataframe tbody tr th {\n",
              "        vertical-align: top;\n",
              "    }\n",
              "\n",
              "    .dataframe thead th {\n",
              "        text-align: right;\n",
              "    }\n",
              "</style>\n",
              "<table border=\"1\" class=\"dataframe\">\n",
              "  <thead>\n",
              "    <tr style=\"text-align: right;\">\n",
              "      <th></th>\n",
              "      <th>vendor_id</th>\n",
              "      <th>passenger_count</th>\n",
              "      <th>pickup_longitude</th>\n",
              "      <th>pickup_latitude</th>\n",
              "      <th>dropoff_longitude</th>\n",
              "      <th>dropoff_latitude</th>\n",
              "      <th>trip_duration</th>\n",
              "    </tr>\n",
              "  </thead>\n",
              "  <tbody>\n",
              "    <tr>\n",
              "      <th>count</th>\n",
              "      <td>1.458644e+06</td>\n",
              "      <td>1.458644e+06</td>\n",
              "      <td>1.458644e+06</td>\n",
              "      <td>1.458644e+06</td>\n",
              "      <td>1.458644e+06</td>\n",
              "      <td>1.458644e+06</td>\n",
              "      <td>1.458644e+06</td>\n",
              "    </tr>\n",
              "    <tr>\n",
              "      <th>mean</th>\n",
              "      <td>1.534950e+00</td>\n",
              "      <td>1.664530e+00</td>\n",
              "      <td>-7.397349e+01</td>\n",
              "      <td>4.075092e+01</td>\n",
              "      <td>-7.397342e+01</td>\n",
              "      <td>4.075180e+01</td>\n",
              "      <td>9.594923e+02</td>\n",
              "    </tr>\n",
              "    <tr>\n",
              "      <th>std</th>\n",
              "      <td>4.987772e-01</td>\n",
              "      <td>1.314242e+00</td>\n",
              "      <td>7.090186e-02</td>\n",
              "      <td>3.288119e-02</td>\n",
              "      <td>7.064327e-02</td>\n",
              "      <td>3.589056e-02</td>\n",
              "      <td>5.237432e+03</td>\n",
              "    </tr>\n",
              "    <tr>\n",
              "      <th>min</th>\n",
              "      <td>1.000000e+00</td>\n",
              "      <td>0.000000e+00</td>\n",
              "      <td>-1.219333e+02</td>\n",
              "      <td>3.435970e+01</td>\n",
              "      <td>-1.219333e+02</td>\n",
              "      <td>3.218114e+01</td>\n",
              "      <td>1.000000e+00</td>\n",
              "    </tr>\n",
              "    <tr>\n",
              "      <th>25%</th>\n",
              "      <td>1.000000e+00</td>\n",
              "      <td>1.000000e+00</td>\n",
              "      <td>-7.399187e+01</td>\n",
              "      <td>4.073735e+01</td>\n",
              "      <td>-7.399133e+01</td>\n",
              "      <td>4.073588e+01</td>\n",
              "      <td>3.970000e+02</td>\n",
              "    </tr>\n",
              "    <tr>\n",
              "      <th>50%</th>\n",
              "      <td>2.000000e+00</td>\n",
              "      <td>1.000000e+00</td>\n",
              "      <td>-7.398174e+01</td>\n",
              "      <td>4.075410e+01</td>\n",
              "      <td>-7.397975e+01</td>\n",
              "      <td>4.075452e+01</td>\n",
              "      <td>6.620000e+02</td>\n",
              "    </tr>\n",
              "    <tr>\n",
              "      <th>75%</th>\n",
              "      <td>2.000000e+00</td>\n",
              "      <td>2.000000e+00</td>\n",
              "      <td>-7.396733e+01</td>\n",
              "      <td>4.076836e+01</td>\n",
              "      <td>-7.396301e+01</td>\n",
              "      <td>4.076981e+01</td>\n",
              "      <td>1.075000e+03</td>\n",
              "    </tr>\n",
              "    <tr>\n",
              "      <th>max</th>\n",
              "      <td>2.000000e+00</td>\n",
              "      <td>9.000000e+00</td>\n",
              "      <td>-6.133553e+01</td>\n",
              "      <td>5.188108e+01</td>\n",
              "      <td>-6.133553e+01</td>\n",
              "      <td>4.392103e+01</td>\n",
              "      <td>3.526282e+06</td>\n",
              "    </tr>\n",
              "  </tbody>\n",
              "</table>\n",
              "</div>\n",
              "      <button class=\"colab-df-convert\" onclick=\"convertToInteractive('df-539ebd95-14d0-484d-9e0b-cd63a9be66a5')\"\n",
              "              title=\"Convert this dataframe to an interactive table.\"\n",
              "              style=\"display:none;\">\n",
              "        \n",
              "  <svg xmlns=\"http://www.w3.org/2000/svg\" height=\"24px\"viewBox=\"0 0 24 24\"\n",
              "       width=\"24px\">\n",
              "    <path d=\"M0 0h24v24H0V0z\" fill=\"none\"/>\n",
              "    <path d=\"M18.56 5.44l.94 2.06.94-2.06 2.06-.94-2.06-.94-.94-2.06-.94 2.06-2.06.94zm-11 1L8.5 8.5l.94-2.06 2.06-.94-2.06-.94L8.5 2.5l-.94 2.06-2.06.94zm10 10l.94 2.06.94-2.06 2.06-.94-2.06-.94-.94-2.06-.94 2.06-2.06.94z\"/><path d=\"M17.41 7.96l-1.37-1.37c-.4-.4-.92-.59-1.43-.59-.52 0-1.04.2-1.43.59L10.3 9.45l-7.72 7.72c-.78.78-.78 2.05 0 2.83L4 21.41c.39.39.9.59 1.41.59.51 0 1.02-.2 1.41-.59l7.78-7.78 2.81-2.81c.8-.78.8-2.07 0-2.86zM5.41 20L4 18.59l7.72-7.72 1.47 1.35L5.41 20z\"/>\n",
              "  </svg>\n",
              "      </button>\n",
              "      \n",
              "  <style>\n",
              "    .colab-df-container {\n",
              "      display:flex;\n",
              "      flex-wrap:wrap;\n",
              "      gap: 12px;\n",
              "    }\n",
              "\n",
              "    .colab-df-convert {\n",
              "      background-color: #E8F0FE;\n",
              "      border: none;\n",
              "      border-radius: 50%;\n",
              "      cursor: pointer;\n",
              "      display: none;\n",
              "      fill: #1967D2;\n",
              "      height: 32px;\n",
              "      padding: 0 0 0 0;\n",
              "      width: 32px;\n",
              "    }\n",
              "\n",
              "    .colab-df-convert:hover {\n",
              "      background-color: #E2EBFA;\n",
              "      box-shadow: 0px 1px 2px rgba(60, 64, 67, 0.3), 0px 1px 3px 1px rgba(60, 64, 67, 0.15);\n",
              "      fill: #174EA6;\n",
              "    }\n",
              "\n",
              "    [theme=dark] .colab-df-convert {\n",
              "      background-color: #3B4455;\n",
              "      fill: #D2E3FC;\n",
              "    }\n",
              "\n",
              "    [theme=dark] .colab-df-convert:hover {\n",
              "      background-color: #434B5C;\n",
              "      box-shadow: 0px 1px 3px 1px rgba(0, 0, 0, 0.15);\n",
              "      filter: drop-shadow(0px 1px 2px rgba(0, 0, 0, 0.3));\n",
              "      fill: #FFFFFF;\n",
              "    }\n",
              "  </style>\n",
              "\n",
              "      <script>\n",
              "        const buttonEl =\n",
              "          document.querySelector('#df-539ebd95-14d0-484d-9e0b-cd63a9be66a5 button.colab-df-convert');\n",
              "        buttonEl.style.display =\n",
              "          google.colab.kernel.accessAllowed ? 'block' : 'none';\n",
              "\n",
              "        async function convertToInteractive(key) {\n",
              "          const element = document.querySelector('#df-539ebd95-14d0-484d-9e0b-cd63a9be66a5');\n",
              "          const dataTable =\n",
              "            await google.colab.kernel.invokeFunction('convertToInteractive',\n",
              "                                                     [key], {});\n",
              "          if (!dataTable) return;\n",
              "\n",
              "          const docLinkHtml = 'Like what you see? Visit the ' +\n",
              "            '<a target=\"_blank\" href=https://colab.research.google.com/notebooks/data_table.ipynb>data table notebook</a>'\n",
              "            + ' to learn more about interactive tables.';\n",
              "          element.innerHTML = '';\n",
              "          dataTable['output_type'] = 'display_data';\n",
              "          await google.colab.output.renderOutput(dataTable, element);\n",
              "          const docLink = document.createElement('div');\n",
              "          docLink.innerHTML = docLinkHtml;\n",
              "          element.appendChild(docLink);\n",
              "        }\n",
              "      </script>\n",
              "    </div>\n",
              "  </div>\n",
              "  "
            ],
            "text/plain": [
              "          vendor_id  passenger_count  pickup_longitude  pickup_latitude  \\\n",
              "count  1.458644e+06     1.458644e+06      1.458644e+06     1.458644e+06   \n",
              "mean   1.534950e+00     1.664530e+00     -7.397349e+01     4.075092e+01   \n",
              "std    4.987772e-01     1.314242e+00      7.090186e-02     3.288119e-02   \n",
              "min    1.000000e+00     0.000000e+00     -1.219333e+02     3.435970e+01   \n",
              "25%    1.000000e+00     1.000000e+00     -7.399187e+01     4.073735e+01   \n",
              "50%    2.000000e+00     1.000000e+00     -7.398174e+01     4.075410e+01   \n",
              "75%    2.000000e+00     2.000000e+00     -7.396733e+01     4.076836e+01   \n",
              "max    2.000000e+00     9.000000e+00     -6.133553e+01     5.188108e+01   \n",
              "\n",
              "       dropoff_longitude  dropoff_latitude  trip_duration  \n",
              "count       1.458644e+06      1.458644e+06   1.458644e+06  \n",
              "mean       -7.397342e+01      4.075180e+01   9.594923e+02  \n",
              "std         7.064327e-02      3.589056e-02   5.237432e+03  \n",
              "min        -1.219333e+02      3.218114e+01   1.000000e+00  \n",
              "25%        -7.399133e+01      4.073588e+01   3.970000e+02  \n",
              "50%        -7.397975e+01      4.075452e+01   6.620000e+02  \n",
              "75%        -7.396301e+01      4.076981e+01   1.075000e+03  \n",
              "max        -6.133553e+01      4.392103e+01   3.526282e+06  "
            ]
          },
          "metadata": {},
          "execution_count": 11
        }
      ],
      "source": [
        "data.describe()"
      ]
    },
    {
      "cell_type": "markdown",
      "metadata": {
        "id": "L33V95nec2gr"
      },
      "source": [
        "* Minimum value of trip duration is 1 secound and max is 3526282 (approx 40 days).\n"
      ]
    },
    {
      "cell_type": "code",
      "execution_count": 12,
      "metadata": {
        "colab": {
          "base_uri": "https://localhost:8080/"
        },
        "id": "Iea5G2aFuLS4",
        "outputId": "9d09d484-d701-49bd-950c-9b8013df985f"
      },
      "outputs": [
        {
          "output_type": "execute_result",
          "data": {
            "text/plain": [
              "id                    1458644\n",
              "vendor_id                   2\n",
              "pickup_datetime       1380222\n",
              "dropoff_datetime      1380377\n",
              "passenger_count            10\n",
              "pickup_longitude        23047\n",
              "pickup_latitude         45245\n",
              "dropoff_longitude       33821\n",
              "dropoff_latitude        62519\n",
              "store_and_fwd_flag          2\n",
              "trip_duration            7417\n",
              "dtype: int64"
            ]
          },
          "metadata": {},
          "execution_count": 12
        }
      ],
      "source": [
        "data.nunique()"
      ]
    },
    {
      "cell_type": "code",
      "execution_count": null,
      "metadata": {
        "id": "4J1y_QcAkcdz"
      },
      "outputs": [],
      "source": [
        "sns.heatmap(data.isnull());\n",
        "plt.title('null values')\n",
        "plt.tight_layout()"
      ]
    },
    {
      "cell_type": "markdown",
      "metadata": {
        "id": "cZBDn6LNktOe"
      },
      "source": [
        "* There are no missing values in the data."
      ]
    },
    {
      "cell_type": "code",
      "execution_count": null,
      "metadata": {
        "id": "EaIeNtzElKmT"
      },
      "outputs": [],
      "source": [
        "data.duplicated().value_counts()"
      ]
    },
    {
      "cell_type": "markdown",
      "metadata": {
        "id": "tXhckLdclKUX"
      },
      "source": [
        "* There are no duplicate values."
      ]
    },
    {
      "cell_type": "markdown",
      "metadata": {
        "id": "1LThl5_5llem"
      },
      "source": [
        "## **Distribution**"
      ]
    },
    {
      "cell_type": "markdown",
      "metadata": {
        "id": "EdtPI4QwuC-Q"
      },
      "source": [
        "### Categorical columns"
      ]
    },
    {
      "cell_type": "code",
      "execution_count": null,
      "metadata": {
        "id": "juua6Psuvoyt"
      },
      "outputs": [],
      "source": [
        "sns.countplot(data=data,x='vendor_id');\n"
      ]
    },
    {
      "cell_type": "markdown",
      "metadata": {
        "id": "3r5w_Ihrik8p"
      },
      "source": [
        "* There is almost equal ratio of both vendors."
      ]
    },
    {
      "cell_type": "code",
      "execution_count": null,
      "metadata": {
        "id": "qDahHGhvdJbp"
      },
      "outputs": [],
      "source": [
        "sns.countplot(data=data,x='store_and_fwd_flag');\n"
      ]
    },
    {
      "cell_type": "markdown",
      "metadata": {
        "id": "pQEvt65TiFSp"
      },
      "source": [
        "* Only few records were recored in memory before sharing(Y)."
      ]
    },
    {
      "cell_type": "markdown",
      "metadata": {
        "id": "rUUmAh5ujPrk"
      },
      "source": [
        "### Numerical columns"
      ]
    },
    {
      "cell_type": "markdown",
      "source": [
        "* Pickup_datatime and dropoff datetime were both on onject data type, they are converted to datetime object to understand the data more."
      ],
      "metadata": {
        "id": "6AUKoTp8wrE4"
      }
    },
    {
      "cell_type": "code",
      "execution_count": 4,
      "metadata": {
        "id": "Why0YFE-jWY7"
      },
      "outputs": [],
      "source": [
        "data['pickup_datetime'] = pd.to_datetime(data['pickup_datetime'])"
      ]
    },
    {
      "cell_type": "code",
      "execution_count": 5,
      "metadata": {
        "id": "0SHTfDcroiFu"
      },
      "outputs": [],
      "source": [
        "data['dropoff_datetime'] = pd.to_datetime(data['dropoff_datetime'])"
      ]
    },
    {
      "cell_type": "code",
      "execution_count": null,
      "metadata": {
        "id": "iW6ddoI0ozXF"
      },
      "outputs": [],
      "source": [
        "print(data['pickup_datetime'].dt.year.unique(),data['dropoff_datetime'].dt.year.unique())"
      ]
    },
    {
      "cell_type": "markdown",
      "source": [
        "* Both pick up and and drop off columns have same year hence it year can be ignored."
      ],
      "metadata": {
        "id": "IdZNa4sjw-1s"
      }
    },
    {
      "cell_type": "code",
      "execution_count": null,
      "metadata": {
        "id": "5llP6HOZpAH8"
      },
      "outputs": [],
      "source": [
        "(data['pickup_datetime'].dt.month.unique(),data['dropoff_datetime'].dt.month.unique())"
      ]
    },
    {
      "cell_type": "code",
      "execution_count": null,
      "metadata": {
        "id": "uil6Pdbjpcp4"
      },
      "outputs": [],
      "source": [
        "(data[data['dropoff_datetime'].dt.month==7]['trip_duration']//60).value_counts().sort_index().plot();"
      ]
    },
    {
      "cell_type": "code",
      "source": [
        "data[data['dropoff_datetime'].dt.month==7][['pickup_datetime','dropoff_datetime']]"
      ],
      "metadata": {
        "id": "Xw0vZVvOyOH2"
      },
      "execution_count": null,
      "outputs": []
    },
    {
      "cell_type": "markdown",
      "source": [
        "* dropoff_datetime has a extra month compared to pickup_datetime column with only 127 observatons when dropoff_datetime month is 7. \n",
        "* Observations when dropoff_datetime month is 7 is from the rides which were mostly taken at late-night of pickup_datetime month 6.\n",
        "* Most rides were under 30 secounds."
      ],
      "metadata": {
        "id": "hrM4mgLoxTgR"
      }
    },
    {
      "cell_type": "code",
      "execution_count": null,
      "metadata": {
        "id": "LzoHmJ_CqkRf"
      },
      "outputs": [],
      "source": [
        "((data['dropoff_datetime']-data['pickup_datetime']).dt.total_seconds().astype(int) == data['trip_duration']).value_counts() "
      ]
    },
    {
      "cell_type": "markdown",
      "metadata": {
        "id": "TiLS2uOZyagC"
      },
      "source": [
        "* Drop off column can be dropped as (drop off - pick up) = trip duration."
      ]
    },
    {
      "cell_type": "code",
      "execution_count": 6,
      "metadata": {
        "id": "Oluk2N85qVXI"
      },
      "outputs": [],
      "source": [
        "data.drop('dropoff_datetime',axis =1,inplace= True)"
      ]
    },
    {
      "cell_type": "code",
      "execution_count": null,
      "metadata": {
        "id": "-lIOTHkexYZo"
      },
      "outputs": [],
      "source": [
        "plt.figure(figsize=(15,10))\n",
        "n =1;\n",
        "for i in ['pickup_longitude','pickup_latitude','dropoff_longitude','dropoff_latitude']:\n",
        "  plt.subplot(2,2,n)\n",
        "  sns.boxplot(data[i])\n",
        "  n+=1\n",
        "plt.tight_layout()"
      ]
    },
    {
      "cell_type": "markdown",
      "metadata": {
        "id": "7pBP2q4UjwX-"
      },
      "source": [
        "There are logitude and latitude co-ordinates which are out of new york city.\n",
        "\n",
        "> * city_long_border = (-74.03, -73.75)\n",
        "* city_lat_border = (40.63, 40.85)\n",
        "\n"
      ]
    },
    {
      "cell_type": "code",
      "execution_count": 7,
      "metadata": {
        "id": "-WO4ByDrn4v_"
      },
      "outputs": [],
      "source": [
        "\n",
        "\n",
        "# dropping outliers\n",
        "data = data[data['pickup_longitude'] <= -73.75]\n",
        "data = data[data['pickup_longitude'] >= -74.03]\n",
        "data = data[data['pickup_latitude'] <= 40.85]\n",
        "data = data[data['pickup_latitude'] >= 40.63]\n",
        "data = data[data['dropoff_longitude'] <= -73.75]\n",
        "data = data[data['dropoff_longitude'] >= -74.03]\n",
        "data = data[data['dropoff_latitude'] <= 40.85]\n",
        "data = data[data['dropoff_latitude'] >= 40.63]"
      ]
    },
    {
      "cell_type": "code",
      "execution_count": null,
      "metadata": {
        "id": "N7owsNrLrkga"
      },
      "outputs": [],
      "source": [
        "sns.boxplot(data['trip_duration']);"
      ]
    },
    {
      "cell_type": "code",
      "execution_count": null,
      "metadata": {
        "id": "yaHAjridsdfN"
      },
      "outputs": [],
      "source": [
        "data['trip_duration'].describe()"
      ]
    },
    {
      "cell_type": "markdown",
      "metadata": {
        "id": "hN83xlYRsmOG"
      },
      "source": [
        "* Min values is 1 secound and max is 352682 secounds (ie. 4 days)\n",
        "* Using 2 standared deviation after taking log10 of trip duration."
      ]
    },
    {
      "cell_type": "code",
      "execution_count": null,
      "metadata": {
        "id": "NbhCXdAcow6W"
      },
      "outputs": [],
      "source": [
        "\n",
        "sns.histplot(data['trip_duration'],bins = 100)\n",
        "plt.title('skew :'+str(data['trip_duration'].skew()))\n",
        "plt.ticklabel_format(style='plain')\n"
      ]
    },
    {
      "cell_type": "code",
      "execution_count": null,
      "metadata": {
        "id": "h1vSIbFbq2Xk"
      },
      "outputs": [],
      "source": [
        "sns.histplot(np.log10(data['trip_duration']),bins=100);\n",
        "plt.title('skew :'+str(np.log(data['trip_duration']).skew()));"
      ]
    },
    {
      "cell_type": "code",
      "execution_count": 8,
      "metadata": {
        "id": "GkX_odlNrhxx"
      },
      "outputs": [],
      "source": [
        "data['log_trip_duration']= np.log10(data['trip_duration'])"
      ]
    },
    {
      "cell_type": "code",
      "execution_count": null,
      "metadata": {
        "id": "C1ahnFj6PQCj"
      },
      "outputs": [],
      "source": [
        "data['log_trip_duration'].mean()- 3*data['log_trip_duration'].std()"
      ]
    },
    {
      "cell_type": "code",
      "execution_count": 9,
      "metadata": {
        "id": "JhfjsVVOMjFH"
      },
      "outputs": [],
      "source": [
        "data = data[data['log_trip_duration']>(data['log_trip_duration'].mean()- 3*data['log_trip_duration'].std())]\n",
        "data = data[data['log_trip_duration']<(data['log_trip_duration'].mean()+ 3*data['log_trip_duration'].std())]\n"
      ]
    },
    {
      "cell_type": "code",
      "execution_count": 10,
      "metadata": {
        "id": "mQaZstmcTBP3"
      },
      "outputs": [],
      "source": [
        "data['month'] = data['pickup_datetime'].dt.month_name()"
      ]
    },
    {
      "cell_type": "code",
      "execution_count": 11,
      "metadata": {
        "id": "V7a6yxD2Uqbv"
      },
      "outputs": [],
      "source": [
        "data['day_no'] = data['pickup_datetime'].dt.day"
      ]
    },
    {
      "cell_type": "code",
      "execution_count": 12,
      "metadata": {
        "id": "ks1dCcknVtCG"
      },
      "outputs": [],
      "source": [
        "data['day'] = data['pickup_datetime'].dt.day_name()"
      ]
    },
    {
      "cell_type": "code",
      "execution_count": 13,
      "metadata": {
        "id": "vydmC0gfWoru"
      },
      "outputs": [],
      "source": [
        "data['hour'] = data['pickup_datetime'].dt.hour"
      ]
    },
    {
      "cell_type": "code",
      "execution_count": 14,
      "metadata": {
        "id": "82682fZrYW4x"
      },
      "outputs": [],
      "source": [
        "data['minute'] = data['pickup_datetime'].dt.minute"
      ]
    },
    {
      "cell_type": "code",
      "execution_count": 15,
      "metadata": {
        "id": "4F7DmHByYft8"
      },
      "outputs": [],
      "source": [
        "data['second'] = data['pickup_datetime'].dt.second"
      ]
    },
    {
      "cell_type": "code",
      "execution_count": null,
      "metadata": {
        "id": "sWrqTKPaV2VZ"
      },
      "outputs": [],
      "source": [
        "\n",
        "sns.lineplot(data=data,x='month',y='trip_duration');\n"
      ]
    },
    {
      "cell_type": "markdown",
      "metadata": {
        "id": "9Fpbrj7yWBPv"
      },
      "source": [
        "* January has least time duration and June has the max trip duration."
      ]
    },
    {
      "cell_type": "code",
      "execution_count": null,
      "metadata": {
        "id": "q2W_mtFWW37-"
      },
      "outputs": [],
      "source": [
        "sns.lineplot(data=data,x='day_no',y='trip_duration' );"
      ]
    },
    {
      "cell_type": "markdown",
      "metadata": {
        "id": "zQITNbERWQv7"
      },
      "source": [
        "* Trip duration is lesser at beginning and ending of month while its hightest at around 25th day of the month."
      ]
    },
    {
      "cell_type": "code",
      "execution_count": null,
      "metadata": {
        "id": "_o1M54WnWgQu"
      },
      "outputs": [],
      "source": [
        "sns.lineplot(data=data,x='day',y='trip_duration');"
      ]
    },
    {
      "cell_type": "markdown",
      "source": [
        "* Trip duration is least at weekends and max during Thursday.\n",
        "* This trend follows for all months."
      ],
      "metadata": {
        "id": "m9NTBWAI5sph"
      }
    },
    {
      "cell_type": "code",
      "execution_count": null,
      "metadata": {
        "id": "s2Xyz5fackvu"
      },
      "outputs": [],
      "source": [
        "sns.boxplot(data=data,x='month',y='trip_duration',hue='day');"
      ]
    },
    {
      "cell_type": "code",
      "execution_count": null,
      "metadata": {
        "id": "WoFMz8vactWD"
      },
      "outputs": [],
      "source": [
        "sns.lineplot(data=data,x='hour',y='trip_duration',marker=\"x\");"
      ]
    },
    {
      "cell_type": "markdown",
      "source": [
        "* Trip duration is least at midnight to early morning(12am to 6am).\n",
        "* Trip duration increases in morning after 6am till late afternoon 4 pm after which it starts.\n",
        "* Highest trip duration is at around 3pm "
      ],
      "metadata": {
        "id": "qOPBSgiI9Srd"
      }
    },
    {
      "cell_type": "code",
      "execution_count": null,
      "metadata": {
        "id": "ryxF14K_dNlb"
      },
      "outputs": [],
      "source": [
        "sns.catplot(data=data,kind='count',x='hour',col='day');\n",
        "plt.tight_layout()"
      ]
    },
    {
      "cell_type": "markdown",
      "source": [
        "* On weekends people do travel at after midnight to early morning while during weekdays most people do not travel much at midnight."
      ],
      "metadata": {
        "id": "i-b5gpEnDnIb"
      }
    },
    {
      "cell_type": "code",
      "execution_count": null,
      "metadata": {
        "id": "WQ4N2hY9fOt-"
      },
      "outputs": [],
      "source": [
        "sns.barplot(data=data,x='passenger_count',y='trip_duration',hue='day');"
      ]
    },
    {
      "cell_type": "markdown",
      "source": [
        "* When 0 passanger trip durations are high which could have been outliers hence removing them."
      ],
      "metadata": {
        "id": "yJFRSJgLFfYz"
      }
    },
    {
      "cell_type": "code",
      "source": [
        "len(data[data['passenger_count']==0])"
      ],
      "metadata": {
        "colab": {
          "base_uri": "https://localhost:8080/"
        },
        "id": "He0gfeNzF3lO",
        "outputId": "95fcfb29-a08c-417c-ddd6-e3f012db642e"
      },
      "execution_count": 16,
      "outputs": [
        {
          "output_type": "execute_result",
          "data": {
            "text/plain": [
              "14"
            ]
          },
          "metadata": {},
          "execution_count": 16
        }
      ]
    },
    {
      "cell_type": "code",
      "execution_count": 129,
      "metadata": {
        "id": "9nQTaEDDftnJ"
      },
      "outputs": [],
      "source": [
        " data = data[data['passenger_count']>0]"
      ]
    },
    {
      "cell_type": "code",
      "execution_count": 17,
      "metadata": {
        "id": "mdnz8lgpkMYu"
      },
      "outputs": [],
      "source": [
        "def distancer(row):\n",
        "    coords_1 = (row['pickup_latitude'], row['pickup_longitude'])\n",
        "    coords_2 = (row['dropoff_latitude'], row['dropoff_longitude'])\n",
        "    return great_circle(coords_1, coords_2).km\n",
        "\n",
        "data['pickup_dropoff_distance'] = data.apply(distancer, axis=1)"
      ]
    },
    {
      "cell_type": "code",
      "execution_count": null,
      "metadata": {
        "id": "h1i7KcYrny5x"
      },
      "outputs": [],
      "source": [
        "sns.lineplot(data=data,y='pickup_dropoff_distance',x='hour');"
      ]
    },
    {
      "cell_type": "markdown",
      "source": [
        "* Most distance is travelled at around 5 am and leasr at around 9 am."
      ],
      "metadata": {
        "id": "2zhjEvMbIIkr"
      }
    },
    {
      "cell_type": "code",
      "source": [
        "sns.catplot(data=data,x='store_and_fwd_flag',y='pickup_dropoff_distance');"
      ],
      "metadata": {
        "id": "eufNFyV2eV5v"
      },
      "execution_count": null,
      "outputs": []
    },
    {
      "cell_type": "markdown",
      "source": [
        "* Its almost the same for both"
      ],
      "metadata": {
        "id": "RBkC3mzHey-Q"
      }
    },
    {
      "cell_type": "code",
      "source": [
        "sns.catplot(data=data,x='vendor_id',y='pickup_dropoff_distance');"
      ],
      "metadata": {
        "id": "Q7ADQtiMe6Xh"
      },
      "execution_count": null,
      "outputs": []
    },
    {
      "cell_type": "code",
      "execution_count": 18,
      "metadata": {
        "id": "-CVzTydFpMN0"
      },
      "outputs": [],
      "source": [
        "data['store_and_fwd_flag'] = data['store_and_fwd_flag'].map(dict(N=0,Y=1))"
      ]
    },
    {
      "cell_type": "code",
      "execution_count": 19,
      "metadata": {
        "id": "NibYOnfkrwQ0"
      },
      "outputs": [],
      "source": [
        "data = pd.get_dummies(data ,columns= ['month','day'],drop_first=True)"
      ]
    },
    {
      "cell_type": "code",
      "execution_count": 20,
      "metadata": {
        "id": "lLEnwPDu1Cjo"
      },
      "outputs": [],
      "source": [
        "data.drop(['id','pickup_datetime','trip_duration'],axis=1,inplace=True)"
      ]
    },
    {
      "cell_type": "code",
      "execution_count": null,
      "metadata": {
        "id": "euBxdegOxu-V"
      },
      "outputs": [],
      "source": [
        "plt.figure(figsize=(17,10))\n",
        "sns.heatmap(data.corr(),annot=True);"
      ]
    },
    {
      "cell_type": "code",
      "execution_count": null,
      "metadata": {
        "id": "R-xPhwoiB5hp"
      },
      "outputs": [],
      "source": [
        "# ! pip install sweetviz"
      ]
    },
    {
      "cell_type": "code",
      "execution_count": null,
      "metadata": {
        "id": "VE-vq7KkI_zR"
      },
      "outputs": [],
      "source": [
        "# import sweetviz as sv\n",
        "# #You could specify which variable in your dataset is the target for your model creation. We can specify it using the target_feat parameter.\n",
        "# my_report = sv.analyze(data, target_feat ='log_trip_duration')\n",
        "# my_report.show_html()"
      ]
    },
    {
      "cell_type": "code",
      "source": [
        "scaler = MinMaxScaler()"
      ],
      "metadata": {
        "id": "yfjM0MlwWZpg"
      },
      "execution_count": 21,
      "outputs": []
    },
    {
      "cell_type": "code",
      "source": [
        "data[['pickup_longitude', 'pickup_latitude','dropoff_longitude', 'dropoff_latitude','day_no']]= scaler.fit_transform(data[['pickup_longitude', 'pickup_latitude','dropoff_longitude', 'dropoff_latitude','day_no']])"
      ],
      "metadata": {
        "id": "AZoQ5y2jWlIB"
      },
      "execution_count": 22,
      "outputs": []
    },
    {
      "cell_type": "code",
      "source": [
        "X = data.drop('log_trip_duration',axis = 1)"
      ],
      "metadata": {
        "id": "RUs9QnRZPV9U"
      },
      "execution_count": 23,
      "outputs": []
    },
    {
      "cell_type": "code",
      "source": [
        "y = data.loc[:,'log_trip_duration']"
      ],
      "metadata": {
        "id": "jIURCV4fPv0-"
      },
      "execution_count": 24,
      "outputs": []
    },
    {
      "cell_type": "code",
      "source": [
        "from sklearn.model_selection import train_test_split"
      ],
      "metadata": {
        "id": "kWraeSvzQiHq"
      },
      "execution_count": 25,
      "outputs": []
    },
    {
      "cell_type": "code",
      "source": [
        "X_train, X_test, y_train, y_test = train_test_split(X, y, test_size=0.2, random_state=42)"
      ],
      "metadata": {
        "id": "hg9sl4FvQn3K"
      },
      "execution_count": 26,
      "outputs": []
    },
    {
      "cell_type": "code",
      "source": [
        "X_train.shape, X_test.shape, y_train.shape, y_test.shape"
      ],
      "metadata": {
        "colab": {
          "base_uri": "https://localhost:8080/"
        },
        "id": "L7y-vjv4Rkw2",
        "outputId": "f8dd9579-0aba-436d-d24d-bec8c1c6bd17"
      },
      "execution_count": 27,
      "outputs": [
        {
          "output_type": "execute_result",
          "data": {
            "text/plain": [
              "((1142957, 23), (285740, 23), (1142957,), (285740,))"
            ]
          },
          "metadata": {},
          "execution_count": 27
        }
      ]
    },
    {
      "cell_type": "code",
      "source": [
        "data.columns"
      ],
      "metadata": {
        "id": "M3LV-sHHmSrP"
      },
      "execution_count": null,
      "outputs": []
    },
    {
      "cell_type": "code",
      "source": [
        "n=1\n",
        "plt.figure(figsize=(15,15))\n",
        "for i in data.columns:\n",
        "  plt.subplot(5,5,n)\n",
        "  sns.distplot(data[i])\n",
        "  n=n+1\n",
        "plt.tight_layout()\n"
      ],
      "metadata": {
        "id": "1jrH87XS5QQw"
      },
      "execution_count": null,
      "outputs": []
    },
    {
      "cell_type": "markdown",
      "source": [
        "# **Linear regression**"
      ],
      "metadata": {
        "id": "UoIFSsYpEzcW"
      }
    },
    {
      "cell_type": "code",
      "source": [
        "from sklearn.linear_model import LinearRegression"
      ],
      "metadata": {
        "id": "cVC-uDmfEsB0"
      },
      "execution_count": null,
      "outputs": []
    },
    {
      "cell_type": "code",
      "source": [
        "lr = LinearRegression()"
      ],
      "metadata": {
        "id": "hE0tI71c5een"
      },
      "execution_count": null,
      "outputs": []
    },
    {
      "cell_type": "code",
      "source": [
        "lr.fit(X_train,y_train)"
      ],
      "metadata": {
        "id": "hQiXo0jVFzFG"
      },
      "execution_count": null,
      "outputs": []
    },
    {
      "cell_type": "code",
      "source": [
        "lr.get_params()"
      ],
      "metadata": {
        "id": "1sHNXoIvF-LE"
      },
      "execution_count": null,
      "outputs": []
    },
    {
      "cell_type": "code",
      "source": [
        "lr.coef_"
      ],
      "metadata": {
        "id": "TWmLF3zvGH2C"
      },
      "execution_count": null,
      "outputs": []
    },
    {
      "cell_type": "code",
      "source": [
        "y_pred_train_lr= lr.predict(X_train)"
      ],
      "metadata": {
        "id": "pjilb3ZYL1Ti"
      },
      "execution_count": null,
      "outputs": []
    },
    {
      "cell_type": "code",
      "source": [
        "y_pred_test_lr = lr.predict(X_test)"
      ],
      "metadata": {
        "id": "QNYrU0VKMKqP"
      },
      "execution_count": null,
      "outputs": []
    },
    {
      "cell_type": "code",
      "source": [
        "from sklearn.metrics import r2_score\n",
        "from sklearn.metrics import mean_squared_error"
      ],
      "metadata": {
        "id": "E__4mznmM1nQ"
      },
      "execution_count": null,
      "outputs": []
    },
    {
      "cell_type": "code",
      "source": [
        "# for train data\n",
        "lr_train_mse  = mean_squared_error((y_train), (y_pred_train_lr))\n",
        "print(\"Train MSE :\" , lr_train_mse)\n",
        "\n",
        "lr_train_rmse = np.sqrt(lr_train_mse)\n",
        "\n",
        "print(\"Train RMSE :\" ,lr_train_rmse)\n",
        "\n",
        "lr_train_r2 = r2_score((y_train), (y_pred_train_lr))\n",
        "print(\"Train R2 :\" ,lr_train_r2) \n",
        "\n",
        "lr_train_r2_ = 1-(1-r2_score((y_train), (y_pred_train_lr)))*((X_train.shape[0]-1)/(X_train.shape[0]-X_train.shape[1]-1))\n",
        "print(\"Train Adjusted R2 : \",lr_train_r2_)"
      ],
      "metadata": {
        "id": "WRD21RdRMdQd"
      },
      "execution_count": null,
      "outputs": []
    },
    {
      "cell_type": "code",
      "source": [
        "lr_test_mse  = mean_squared_error((y_test), (y_pred_test_lr))\n",
        "print(\"Test MSE :\" , lr_test_mse)\n",
        "\n",
        "lr_test_rmse = np.sqrt(lr_test_mse)\n",
        "\n",
        "print(\"Test RMSE :\" ,lr_test_rmse)\n",
        "\n",
        "lr_test_r2 = r2_score((y_test), (y_pred_test_lr))\n",
        "print(\"Test R2 :\" ,lr_test_r2)\n",
        "\n",
        "lr_test_r2_ = 1-(1-r2_score((y_test), (y_pred_test_lr)))*((X_test.shape[0]-1)/(X_test.shape[0]-X_test.shape[1]-1))\n",
        "print(\"Test Adjusted R2 : \",lr_test_r2_)"
      ],
      "metadata": {
        "id": "tU4bV-kJM4A_"
      },
      "execution_count": null,
      "outputs": []
    },
    {
      "cell_type": "code",
      "source": [
        "c= [i for i in range(0, len(y_train))]\n",
        "plt.plot(c, y_train, color='blue', linewidth=2.5, linestyle='-')\n",
        "plt.plot(c, y_pred_train_lr, color='red', linewidth=2.5, linestyle='-')\n",
        "plt.title('Actual vs Predicted for Train Data', fontsize=20)\n",
        "plt.legend([\"Actual\", \"Predicted\"])\n",
        "plt.show()"
      ],
      "metadata": {
        "id": "mW_JoPjBPALc"
      },
      "execution_count": null,
      "outputs": []
    },
    {
      "cell_type": "code",
      "source": [
        "#Actual vs Prediction\n",
        "\n",
        "c= [i for i in range(0, len(y_test))]\n",
        "plt.plot(c, y_test, color='blue', linewidth=2.5, linestyle='-')\n",
        "plt.plot(c, y_pred_test_lr, color='red', linewidth=2.5, linestyle='-')\n",
        "plt.title('Actual vs Predicted for Test Data', fontsize=20)\n",
        "plt.legend([\"Actual\", \"Predicted\"])\n",
        "plt.show()"
      ],
      "metadata": {
        "id": "0lkfyyKuOczi"
      },
      "execution_count": null,
      "outputs": []
    },
    {
      "cell_type": "code",
      "source": [
        "plt.figure(figsize= (10,5))\n",
        "c= [i for i in range(0, len(y_test))]\n",
        "plt.plot(c, y_test-y_pred_test_lr, color='blue', linewidth=2.5, linestyle='-')\n",
        "plt.title('Error Term', fontsize=20)\n",
        "plt.show()"
      ],
      "metadata": {
        "id": "esYjyDt4Oyt6"
      },
      "execution_count": null,
      "outputs": []
    },
    {
      "cell_type": "markdown",
      "source": [
        "# **Lasso Regression**"
      ],
      "metadata": {
        "id": "z2iN9SvMNI2y"
      }
    },
    {
      "cell_type": "code",
      "source": [
        "from sklearn.linear_model import Lasso\n",
        "from sklearn.model_selection import GridSearchCV"
      ],
      "metadata": {
        "id": "9GZs3Uo9NDuh"
      },
      "execution_count": null,
      "outputs": []
    },
    {
      "cell_type": "code",
      "source": [
        "#Cross validation\n",
        "lasso = Lasso()\n",
        "parameters = {'alpha': [1e-15,1e-13,1e-10,1e-8,1e-5,1e-4,1e-3,1e-2,1e-1,1,5,10,20,30,40,45,50,55,60,100]}\n",
        "lasso_regressor = GridSearchCV(lasso, parameters, scoring='r2', cv=5)\n",
        "lasso_regressor.fit(X_train, y_train)"
      ],
      "metadata": {
        "id": "jv-ru5AjOVbn"
      },
      "execution_count": null,
      "outputs": []
    },
    {
      "cell_type": "code",
      "source": [
        "print('The best fit alpha value is found out to be :', lasso_regressor.best_params_)\n",
        "print('The R2 score using the same alpha is :', lasso_regressor.best_score_)"
      ],
      "metadata": {
        "id": "Yeh_NCMFQBZ1"
      },
      "execution_count": null,
      "outputs": []
    },
    {
      "cell_type": "code",
      "source": [
        "y_pred_train_lasso = lasso_regressor.predict(X_train)\n",
        "y_pred_test_lasso = lasso_regressor.predict(X_test)\n"
      ],
      "metadata": {
        "id": "onuP9yCTVfDe"
      },
      "execution_count": null,
      "outputs": []
    },
    {
      "cell_type": "code",
      "source": [
        "# for train data\n",
        "lasso_train_mse  = mean_squared_error((y_train), (y_pred_train_lasso))\n",
        "print(\"Train MSE :\" , lasso_train_mse)\n",
        "\n",
        "lasso_train_rmse = np.sqrt(lasso_train_mse)\n",
        "\n",
        "print(\"Train RMSE :\" ,lasso_train_rmse)\n",
        "\n",
        "lasso_train_r2 = r2_score((y_train), (y_pred_train_lasso))\n",
        "print(\"Train R2 :\" ,lr_train_r2) \n",
        "\n",
        "lasso_train_r2_ = 1-(1-r2_score((y_train), (y_pred_train_lasso)))*((X_train.shape[0]-1)/(X_train.shape[0]-X_train.shape[1]-1))\n",
        "print(\"Train Adjusted R2 : \",lr_train_r2_)"
      ],
      "metadata": {
        "id": "-Mnnlsp9QGn-"
      },
      "execution_count": null,
      "outputs": []
    },
    {
      "cell_type": "code",
      "source": [
        "lasso_test_mse  = mean_squared_error((y_test), (y_pred_test_lasso))\n",
        "print(\"Test MSE :\" , lasso_test_mse)\n",
        "\n",
        "lasso_test_rmse = np.sqrt(lasso_test_mse)\n",
        "\n",
        "print(\"Test RMSE :\" ,lasso_test_rmse)\n",
        "\n",
        "lasso_test_r2 = r2_score((y_test), (y_pred_test_lasso))\n",
        "print(\"Test R2 :\" ,lasso_test_r2)\n",
        "\n",
        "lasso_test_r2_ = 1-(1-r2_score((y_test), (y_pred_test_lasso)))*((X_test.shape[0]-1)/(X_test.shape[0]-X_test.shape[1]-1))\n",
        "print(\"Test Adjusted R2 : \",lr_test_r2_)"
      ],
      "metadata": {
        "id": "C6pP2uR0WSdp"
      },
      "execution_count": null,
      "outputs": []
    },
    {
      "cell_type": "code",
      "source": [
        "c= [i for i in range(0, len(y_train))]\n",
        "plt.plot(c, y_train, color='blue', linewidth=2.5, linestyle='-')\n",
        "plt.plot(c, y_pred_train_lasso, color='red', linewidth=2.5, linestyle='-')\n",
        "plt.title('Actual vs Predicted for Train Data', fontsize=20)\n",
        "plt.legend([\"Actual\", \"Predicted\"])\n",
        "plt.show()"
      ],
      "metadata": {
        "id": "8s8bYXorXmKr"
      },
      "execution_count": null,
      "outputs": []
    },
    {
      "cell_type": "code",
      "source": [
        "c= [i for i in range(0, len(y_test))]\n",
        "plt.plot(c, y_test, color='blue', linewidth=2.5, linestyle='-')\n",
        "plt.plot(c, y_pred_test_lasso, color='red', linewidth=2.5, linestyle='-')\n",
        "plt.title('Actual vs Predicted for Test Data', fontsize=20)\n",
        "plt.legend([\"Actual\", \"Predicted\"])\n",
        "plt.show()"
      ],
      "metadata": {
        "id": "9miWX_cfX0EY"
      },
      "execution_count": null,
      "outputs": []
    },
    {
      "cell_type": "code",
      "source": [
        "plt.figure(figsize= (10,5))\n",
        "c= [i for i in range(0, len(y_test))]\n",
        "plt.plot(c, y_test-y_pred_test_lasso, color='blue', linewidth=2.5, linestyle='-')\n",
        "plt.title('Error Term', fontsize=20)\n",
        "plt.show()"
      ],
      "metadata": {
        "id": "9yZGCogTX8DE"
      },
      "execution_count": null,
      "outputs": []
    },
    {
      "cell_type": "markdown",
      "source": [
        "# **Ridge**"
      ],
      "metadata": {
        "id": "2n5e64i_Y-rV"
      }
    },
    {
      "cell_type": "code",
      "source": [
        "from sklearn.linear_model import Ridge\n",
        "#Cross validation\n",
        "ridge = Ridge()\n",
        "parameters = {'alpha': [1e-15,1e-13,1e-10,1e-8,1e-5,1e-4,1e-3,1e-2,1e-1,1,5,10,20,30,40,45,50,55,60,100]}\n",
        "ridge_regressor = GridSearchCV(ridge, parameters, scoring='r2', cv=5)\n",
        "ridge_regressor.fit(X_train, y_train)"
      ],
      "metadata": {
        "id": "p23za7aJYIj4"
      },
      "execution_count": null,
      "outputs": []
    },
    {
      "cell_type": "code",
      "source": [
        "print('The best fit alpha value is found out to be :' ,ridge_regressor.best_params_)\n",
        "print('The R2 score using the same alpha is :', lasso_regressor.best_score_)"
      ],
      "metadata": {
        "id": "iy2ubetmZFMv"
      },
      "execution_count": null,
      "outputs": []
    },
    {
      "cell_type": "code",
      "source": [
        "ridge_regressor.best_estimator_"
      ],
      "metadata": {
        "id": "pIkEtYAaZK-0"
      },
      "execution_count": null,
      "outputs": []
    },
    {
      "cell_type": "code",
      "source": [
        "ridge_regressor.score(X_train, y_train)"
      ],
      "metadata": {
        "id": "GkpjbMZ5ZLtY"
      },
      "execution_count": null,
      "outputs": []
    },
    {
      "cell_type": "code",
      "source": [
        "y_pred_train_ridge = ridge_regressor.predict(X_train)\n",
        "y_pred_test_ridge = ridge_regressor.predict(X_test)\n",
        "# for train data\n",
        "ridge_train_mse  = mean_squared_error((y_train), (y_pred_train_ridge))\n",
        "print(\"Train MSE :\" , ridge_train_mse)\n",
        "\n",
        "ridge_train_rmse = np.sqrt(ridge_train_mse)\n",
        "\n",
        "print(\"Train RMSE :\" ,ridge_train_rmse)\n",
        "\n",
        "ridge_train_r2 = r2_score((y_train), (y_pred_train_ridge))\n",
        "print(\"Train R2 :\" ,lr_train_r2) \n",
        "\n",
        "ridge_train_r2_ = 1-(1-r2_score((y_train), (y_pred_train_ridge)))*((X_train.shape[0]-1)/(X_train.shape[0]-X_train.shape[1]-1))\n",
        "print(\"Train Adjusted R2 : \",lr_train_r2_)\n",
        "\n",
        "ridge_test_mse  = mean_squared_error((y_test), (y_pred_test_ridge))\n",
        "print(\"Test MSE :\" , ridge_test_mse)\n",
        "\n",
        "ridge_test_rmse = np.sqrt(ridge_test_mse)\n",
        "\n",
        "print(\"Test RMSE :\" ,ridge_test_rmse)\n",
        "\n",
        "ridge_test_r2 = r2_score((y_test), (y_pred_test_ridge))\n",
        "print(\"Test R2 :\" ,ridge_test_r2)\n",
        "\n",
        "ridge_test_r2_ = 1-(1-r2_score((y_test), (y_pred_test_ridge)))*((X_test.shape[0]-1)/(X_test.shape[0]-X_test.shape[1]-1))\n",
        "print(\"Test Adjusted R2 : \",lr_test_r2_)"
      ],
      "metadata": {
        "id": "2akcQUglZQkZ"
      },
      "execution_count": null,
      "outputs": []
    },
    {
      "cell_type": "code",
      "source": [
        "c= [i for i in range(0, len(y_train))]\n",
        "plt.plot(c, y_train, color='blue', linewidth=2.5, linestyle='-')\n",
        "plt.plot(c, y_pred_train_ridge, color='red', linewidth=2.5, linestyle='-')\n",
        "plt.title('Actual vs Predicted for Train Data', fontsize=20)\n",
        "plt.legend([\"Actual\", \"Predicted\"])\n",
        "plt.show()"
      ],
      "metadata": {
        "id": "P3raRVh6aNpO"
      },
      "execution_count": null,
      "outputs": []
    },
    {
      "cell_type": "code",
      "source": [
        "c= [i for i in range(0, len(y_test))]\n",
        "plt.plot(c, y_test, color='blue', linewidth=2.5, linestyle='-')\n",
        "plt.plot(c, y_pred_test_ridge, color='red', linewidth=2.5, linestyle='-')\n",
        "plt.title('Actual vs Predicted for Train Data', fontsize=20)\n",
        "plt.legend([\"Actual\", \"Predicted\"])\n",
        "plt.show()"
      ],
      "metadata": {
        "id": "WD_wWtSAaadr"
      },
      "execution_count": null,
      "outputs": []
    },
    {
      "cell_type": "code",
      "source": [
        "plt.figure(figsize= (10,5))\n",
        "c= [i for i in range(0, len(y_test))]\n",
        "plt.plot(c, y_test-y_pred_test_ridge, color='blue', linewidth=2.5, linestyle='-')\n",
        "plt.title('Error Term', fontsize=20)\n",
        "plt.show()"
      ],
      "metadata": {
        "id": "aF6cp6mVagd-"
      },
      "execution_count": null,
      "outputs": []
    },
    {
      "cell_type": "markdown",
      "source": [
        "# **DecisionTree**"
      ],
      "metadata": {
        "id": "79N3vPnuavV1"
      }
    },
    {
      "cell_type": "code",
      "source": [
        "from sklearn.tree import DecisionTreeRegressor"
      ],
      "metadata": {
        "id": "lv-2BC1oaoFe"
      },
      "execution_count": null,
      "outputs": []
    },
    {
      "cell_type": "code",
      "source": [
        "# Maximum depth of trees\n",
        "max_depth = [4,6,8,10]\n",
        " \n",
        "# Minimum number of samples required to split a node\n",
        "min_samples_split = [10,20,30]\n",
        " \n",
        "# Minimum number of samples required at each leaf node\n",
        "min_samples_leaf = [8,16,22]\n",
        " \n",
        "# Hyperparameter Grid\n",
        "param_dict_dt = {\n",
        "              'max_depth' : max_depth,\n",
        "              'min_samples_split' : min_samples_split,\n",
        "              'min_samples_leaf' : min_samples_leaf}\n",
        "# best params \n",
        "best_dr = {'max_depth': [10], 'min_samples_leaf': [22], 'min_samples_split': [10]}\n"
      ],
      "metadata": {
        "id": "n8QgiauCax87"
      },
      "execution_count": null,
      "outputs": []
    },
    {
      "cell_type": "code",
      "source": [
        "dtree = DecisionTreeRegressor()\n",
        "dtree_regr = GridSearchCV(dtree,best_dr, scoring='r2', cv=5)"
      ],
      "metadata": {
        "id": "h8_ttiyETKDi"
      },
      "execution_count": null,
      "outputs": []
    },
    {
      "cell_type": "code",
      "source": [
        "dtree_regr.fit(X_train,y_train)"
      ],
      "metadata": {
        "id": "FuqUzIW_UBXZ"
      },
      "execution_count": null,
      "outputs": []
    },
    {
      "cell_type": "code",
      "source": [
        "print('The best fit alpha value is found out to be :', dtree_regr.best_params_)\n",
        "print('The R2 score using the same alpha is :', dtree_regr.best_score_)"
      ],
      "metadata": {
        "id": "T-LTrnwgUGOb"
      },
      "execution_count": null,
      "outputs": []
    },
    {
      "cell_type": "code",
      "source": [
        "y_pred_train_dt = dtree_regr.predict(X_train)\n",
        "y_pred_test_dt = dtree_regr.predict(X_test)"
      ],
      "metadata": {
        "id": "Yi5Vl7CrVTMM"
      },
      "execution_count": null,
      "outputs": []
    },
    {
      "cell_type": "code",
      "source": [
        "# for train data\n",
        "dt_train_mse  = mean_squared_error((y_train), (y_pred_train_dt))\n",
        "print(\"Train MSE :\" , dt_train_mse)\n",
        "\n",
        "dt_train_rmse = np.sqrt(dt_train_mse)\n",
        "\n",
        "print(\"Train RMSE :\" ,dt_train_rmse)\n",
        "\n",
        "dt_train_r2 = r2_score((y_train), (y_pred_train_dt))\n",
        "print(\"Train R2 :\" ,dt_train_r2) \n",
        "\n",
        "dt_train_r2_ = 1-(1-r2_score((y_train), (y_pred_train_dt)))*((X_train.shape[0]-1)/(X_train.shape[0]-X_train.shape[1]-1))\n",
        "print(\"Train Adjusted R2 : \",dt_train_r2_)"
      ],
      "metadata": {
        "id": "7CMQ3ivawbhO"
      },
      "execution_count": null,
      "outputs": []
    },
    {
      "cell_type": "code",
      "source": [
        "dt_test_mse  = mean_squared_error((y_test), (y_pred_test_dt))\n",
        "print(\"Test MSE :\" , dt_test_mse)\n",
        "\n",
        "dt_test_rmse = np.sqrt(dt_test_mse)\n",
        "\n",
        "print(\"Test RMSE :\" ,dt_test_rmse)\n",
        "\n",
        "dt_test_r2 = r2_score((y_test), (y_pred_test_dt))\n",
        "print(\"Test R2 :\" ,dt_test_r2)\n",
        "\n",
        "dt_test_r2_ = 1-(1-r2_score((y_test), (y_pred_test_dt)))*((X_test.shape[0]-1)/(X_test.shape[0]-X_test.shape[1]-1))\n",
        "print(\"Test Adjusted R2 : \",dt_test_r2_)"
      ],
      "metadata": {
        "id": "8dBrTtVNxAT4"
      },
      "execution_count": null,
      "outputs": []
    },
    {
      "cell_type": "code",
      "source": [
        "c= [i for i in range(0, len(y_train))]\n",
        "plt.plot(c, y_train, color='blue', linewidth=2.5, linestyle='-')\n",
        "plt.plot(c, y_pred_train_dt, color='red', linewidth=2.5, linestyle='-')\n",
        "plt.title('Actual vs Predicted for Train Data', fontsize=20)\n",
        "plt.legend([\"Actual\", \"Predicted\"])\n",
        "plt.show()"
      ],
      "metadata": {
        "id": "lhz-X-DsxUir"
      },
      "execution_count": null,
      "outputs": []
    },
    {
      "cell_type": "code",
      "source": [
        "c= [i for i in range(0, len(y_test))]\n",
        "plt.plot(c, y_test, color='blue', linewidth=2.5, linestyle='-')\n",
        "plt.plot(c, y_pred_test_dt, color='red', linewidth=2.5, linestyle='-')\n",
        "plt.title('Actual vs Predicted for Train Data', fontsize=20)\n",
        "plt.legend([\"Actual\", \"Predicted\"])\n",
        "plt.show()"
      ],
      "metadata": {
        "id": "HPn9A7jWxbXa"
      },
      "execution_count": null,
      "outputs": []
    },
    {
      "cell_type": "code",
      "source": [
        "plt.figure(figsize= (10,5))\n",
        "c= [i for i in range(0, len(y_test))]\n",
        "plt.plot(c, y_test-y_pred_test_dt, color='blue', linewidth=2.5, linestyle='-')\n",
        "plt.title('Error Term', fontsize=20)\n",
        "plt.show()"
      ],
      "metadata": {
        "id": "uwglrZFKyGek"
      },
      "execution_count": null,
      "outputs": []
    },
    {
      "cell_type": "markdown",
      "source": [
        "# **xgboost**"
      ],
      "metadata": {
        "id": "sEEi2rAu42pk"
      }
    },
    {
      "cell_type": "code",
      "source": [
        "n_estimators = [80,150,200]\n",
        " \n",
        "# Maximum depth of trees\n",
        "max_depth = [5,8,10]\n",
        "min_samples_split = [40,50]\n",
        "learning_rate=[0.2,0.4,0.6]\n",
        " \n",
        "# Hyperparameter Grid\n",
        "param_xgb = {'n_estimators' : n_estimators,\n",
        "              'max_depth' : max_depth,\n",
        "             'min_samples_' : min_samples_split,\n",
        "             'learning_rate' : learning_rate\n",
        "             }\n",
        "# Best parameters found after tuning\n",
        "best = {'learning_rate': [0.2],\n",
        " 'max_depth': [10],\n",
        " 'min_samples_': [40],\n",
        " 'n_estimators': [200]}"
      ],
      "metadata": {
        "id": "pnnmoZwl5e2q"
      },
      "execution_count": null,
      "outputs": []
    },
    {
      "cell_type": "code",
      "source": [
        "import xgboost as xgb"
      ],
      "metadata": {
        "id": "PMNII8M-hSo2"
      },
      "execution_count": 28,
      "outputs": []
    },
    {
      "cell_type": "code",
      "source": [
        "import xgboost as xgb\n",
        "xgb_model = xgb.XGBRegressor(tree_method = 'gpu_hist',silent=1)\n",
        "\n",
        "# Grid search\n",
        "xgb_grid = GridSearchCV(estimator=xgb_model,\n",
        "                        param_grid = best,\n",
        "                        cv = 3, verbose=1,\n",
        "                        scoring=\"r2\")\n",
        "\n",
        "xgb_grid.fit(X_train,y_train)"
      ],
      "metadata": {
        "id": "o9e1y0UnLHHL"
      },
      "execution_count": null,
      "outputs": []
    },
    {
      "cell_type": "code",
      "source": [
        "xgb_grid.score(X_train,y_train)"
      ],
      "metadata": {
        "id": "M6z_G-OnUldB"
      },
      "execution_count": null,
      "outputs": []
    },
    {
      "cell_type": "code",
      "source": [
        "y_pred_train_xgb = xgb_grid.predict(X_train)\n",
        "y_pred_test_xgb = xgb_grid.predict(X_test)"
      ],
      "metadata": {
        "id": "ZM7yK9iJYkuj"
      },
      "execution_count": null,
      "outputs": []
    },
    {
      "cell_type": "code",
      "source": [
        "xgb_grid.score(X_test,y_test)"
      ],
      "metadata": {
        "id": "dZQCRYkDHMgC"
      },
      "execution_count": null,
      "outputs": []
    },
    {
      "cell_type": "code",
      "source": [
        "# for train data\n",
        "xgb_train_mse  = mean_squared_error((y_train), (y_pred_train_xgb))\n",
        "print(\"Train MSE :\" , xgb_train_mse)\n",
        "\n",
        "xgb_train_rmse = np.sqrt(xgb_train_mse)\n",
        "\n",
        "print(\"Train RMSE :\" ,xgb_train_rmse)\n",
        "\n",
        "xgb_train_r2 = r2_score((y_train), (y_pred_train_xgb))\n",
        "print(\"Train R2 :\" ,xgb_train_r2) \n",
        "\n",
        "xgb_train_r2_ = 1-(1-r2_score((y_train), (y_pred_train_xgb)))*((X_train.shape[0]-1)/(X_train.shape[0]-X_train.shape[1]-1))\n",
        "print(\"Train Adjusted R2 : \",dt_train_r2_)"
      ],
      "metadata": {
        "id": "ue3s3AZPESCZ"
      },
      "execution_count": null,
      "outputs": []
    },
    {
      "cell_type": "code",
      "source": [
        "xgb_test_mse  = mean_squared_error((y_test), (y_pred_test_xgb))\n",
        "print(\"Test MSE :\" , xgb_test_mse)\n",
        "\n",
        "xgb_test_rmse = np.sqrt(xgb_test_mse)\n",
        "\n",
        "print(\"Test RMSE :\" ,xgb_test_rmse)\n",
        "\n",
        "xgb_test_r2 = r2_score((y_test), (y_pred_test_xgb))\n",
        "print(\"Test R2 :\" ,xgb_test_r2)\n",
        "\n",
        "xgb_test_r2_ = 1-(1-r2_score((y_test), (y_pred_test_xgb)))*((X_test.shape[0]-1)/(X_test.shape[0]-X_test.shape[1]-1))"
      ],
      "metadata": {
        "id": "bhFqHpBgY8b9"
      },
      "execution_count": null,
      "outputs": []
    },
    {
      "cell_type": "code",
      "source": [
        "c= [i for i in range(0, len(y_train))]\n",
        "plt.plot(c, y_train, color='blue', linewidth=2.5, linestyle='-')\n",
        "plt.plot(c, y_pred_train_xgb, color='red', linewidth=2.5, linestyle='-')\n",
        "plt.title('Actual vs Predicted for Train Data', fontsize=20)\n",
        "plt.legend([\"Actual\", \"Predicted\"])\n",
        "plt.show()"
      ],
      "metadata": {
        "id": "-F9bjx5_Eqzr"
      },
      "execution_count": null,
      "outputs": []
    },
    {
      "cell_type": "code",
      "source": [
        "c= [i for i in range(0, len(y_test))]\n",
        "plt.plot(c, y_test, color='blue', linewidth=2.5, linestyle='-')\n",
        "plt.plot(c, y_pred_test_xgb, color='red', linewidth=2.5, linestyle='-')\n",
        "plt.title('Actual vs Predicted for Train Data', fontsize=20)\n",
        "plt.legend([\"Actual\", \"Predicted\"])\n",
        "plt.show()"
      ],
      "metadata": {
        "id": "h0bMBWs5E0l6"
      },
      "execution_count": null,
      "outputs": []
    },
    {
      "cell_type": "code",
      "source": [
        "plt.figure(figsize= (10,5))\n",
        "c= [i for i in range(0, len(y_test))]\n",
        "plt.plot(c, y_test-y_pred_test_xgb, color='blue', linewidth=2.5, linestyle='-')\n",
        "plt.title('Error Term', fontsize=20)\n",
        "plt.show()"
      ],
      "metadata": {
        "id": "o-6D1RxUE60V"
      },
      "execution_count": null,
      "outputs": []
    },
    {
      "cell_type": "code",
      "source": [
        "sns.distplot(y_test-y_pred_test_xgb);"
      ],
      "metadata": {
        "id": "Bw7djrxCzR-8"
      },
      "execution_count": null,
      "outputs": []
    },
    {
      "cell_type": "markdown",
      "source": [
        "# **lgb**"
      ],
      "metadata": {
        "id": "qLJXJqPKk1YW"
      }
    },
    {
      "cell_type": "code",
      "source": [
        "import lightgbm as lgb\n",
        "from lightgbm import LGBMRegressor"
      ],
      "metadata": {
        "id": "hVKYhCmgjbke"
      },
      "execution_count": null,
      "outputs": []
    },
    {
      "cell_type": "code",
      "source": [
        "n_estimators = [80,150,200]\n",
        " \n",
        "# Maximum depth of trees\n",
        "max_depth = [5,8,10,50]\n",
        "min_samples_split = [40,50,100]\n",
        "learning_rate=[0.2,0.4,0.6]\n",
        " \n",
        "# Hyperparameter Grid\n",
        "param_lgb = {'n_estimators' : n_estimators,\n",
        "              'max_depth' : max_depth,\n",
        "             'min_samples_' : min_samples_split,\n",
        "             'learning_rate' : learning_rate\n",
        "             }\n",
        "# best parameters after evaluating\n",
        "best_lgb= {'learning_rate': [0.4],\n",
        " 'max_depth': [50],\n",
        " 'min_samples_': [40],\n",
        " 'n_estimators': [200]}"
      ],
      "metadata": {
        "id": "Yh4HH64bSHlH"
      },
      "execution_count": null,
      "outputs": []
    },
    {
      "cell_type": "code",
      "source": [
        "# lgb_grid.best_params_"
      ],
      "metadata": {
        "id": "3lFI76YPxYrS"
      },
      "execution_count": null,
      "outputs": []
    },
    {
      "cell_type": "code",
      "source": [
        "model = LGBMRegressor()\n",
        "lgb_grid = GridSearchCV(estimator=model,\n",
        "                        param_grid = best_lgb,\n",
        "                        cv = 3, verbose=1,\n",
        "                        scoring=\"r2\")\n",
        "\n"
      ],
      "metadata": {
        "id": "k7Mq3MuVmcNt"
      },
      "execution_count": null,
      "outputs": []
    },
    {
      "cell_type": "code",
      "source": [
        "lgb_grid.fit(X_train,y_train)"
      ],
      "metadata": {
        "id": "gKe_D3M5aEXw"
      },
      "execution_count": null,
      "outputs": []
    },
    {
      "cell_type": "code",
      "source": [
        "y_pred_train_lgb = lgb_grid.predict(X_train)\n",
        "y_pred_test_lgb = lgb_grid.predict(X_test)"
      ],
      "metadata": {
        "id": "L3jtBo0Ynh3C"
      },
      "execution_count": null,
      "outputs": []
    },
    {
      "cell_type": "code",
      "source": [
        "lgb_grid.score(X_train,y_train)"
      ],
      "metadata": {
        "id": "1-eGwXN2p9at"
      },
      "execution_count": null,
      "outputs": []
    },
    {
      "cell_type": "code",
      "source": [
        "lgb_grid.score(X_test,y_test)"
      ],
      "metadata": {
        "id": "oWPbvwhssn8d"
      },
      "execution_count": null,
      "outputs": []
    },
    {
      "cell_type": "code",
      "source": [
        "# for train data\n",
        "lgb_train_mse  = mean_squared_error((y_train), (y_pred_train_lgb))\n",
        "print(\"Train MSE :\" , lgb_train_mse)\n",
        "\n",
        "lgb_train_rmse = np.sqrt(lgb_train_mse)\n",
        "\n",
        "print(\"Train RMSE :\" ,lgb_train_rmse)\n",
        "\n",
        "lgb_train_r2 = r2_score((y_train), (y_pred_train_lgb))\n",
        "print(\"Train R2 :\" ,lgb_train_r2) \n",
        "\n",
        "lgb_train_r2_ = 1-(1-r2_score((y_train), (y_pred_train_lgb)))*((X_train.shape[0]-1)/(X_train.shape[0]-X_train.shape[1]-1))\n",
        "print(\"Train adjusted R2 :\" ,lgb_train_r2_)"
      ],
      "metadata": {
        "id": "kfMQ7K-JyUq0"
      },
      "execution_count": null,
      "outputs": []
    },
    {
      "cell_type": "code",
      "source": [
        "lgb_test_mse  = mean_squared_error((y_test), (y_pred_test_lgb))\n",
        "print(\"Test MSE :\" , lgb_test_mse)\n",
        "\n",
        "lgb_test_rmse = np.sqrt(lgb_test_mse)\n",
        "\n",
        "print(\"Test RMSE :\" ,lgb_test_rmse)\n",
        "\n",
        "lgb_test_r2 = r2_score((y_test), (y_pred_test_lgb))\n",
        "print(\"Test R2 :\" ,lgb_test_r2)\n",
        "\n",
        "lgb_test_r2_ = 1-(1-r2_score((y_test), (y_pred_test_lgb)))*((X_test.shape[0]-1)/(X_test.shape[0]-X_test.shape[1]-1))\n",
        "print(\"Train adjusted R2 :\" ,lgb_test_r2_)"
      ],
      "metadata": {
        "id": "8i8-byByylhm"
      },
      "execution_count": null,
      "outputs": []
    },
    {
      "cell_type": "code",
      "source": [
        "c= [i for i in range(0, len(y_train))]\n",
        "plt.plot(c, y_train, color='blue', linewidth=2.5, linestyle='-')\n",
        "plt.plot(c, y_pred_train_lgb, color='red', linewidth=2.5, linestyle='-')\n",
        "plt.title('Actual vs Predicted for Train Data', fontsize=20)\n",
        "plt.legend([\"Actual\", \"Predicted\"])\n",
        "plt.show()"
      ],
      "metadata": {
        "id": "lhrmfXoOy7Yy"
      },
      "execution_count": null,
      "outputs": []
    },
    {
      "cell_type": "code",
      "source": [
        "c= [i for i in range(0, len(y_test))]\n",
        "plt.plot(c, y_test, color='blue', linewidth=2.5, linestyle='-')\n",
        "plt.plot(c, y_pred_test_lgb, color='red', linewidth=2.5, linestyle='-')\n",
        "plt.title('Actual vs Predicted for Train Data', fontsize=20)\n",
        "plt.legend([\"Actual\", \"Predicted\"])\n",
        "plt.show()"
      ],
      "metadata": {
        "id": "g3Ze5WQhzDFF"
      },
      "execution_count": null,
      "outputs": []
    },
    {
      "cell_type": "code",
      "source": [
        "plt.figure(figsize= (10,5))\n",
        "c= [i for i in range(0, len(y_test))]\n",
        "plt.plot(c, y_test-y_pred_test_lgb, color='blue', linewidth=2.5, linestyle='-')\n",
        "plt.title('Error Term', fontsize=20)\n",
        "plt.show()"
      ],
      "metadata": {
        "id": "E3mvMVEIzE7E"
      },
      "execution_count": null,
      "outputs": []
    },
    {
      "cell_type": "code",
      "source": [
        "sns.distplot(y_test-y_pred_test_lgb);"
      ],
      "metadata": {
        "id": "9vJlcZFYzLwD"
      },
      "execution_count": null,
      "outputs": []
    },
    {
      "cell_type": "markdown",
      "source": [
        "* XGboost gives the best r2 score on training data."
      ],
      "metadata": {
        "id": "Oeyl65Qz1H09"
      }
    },
    {
      "cell_type": "code",
      "source": [
        "xgb_model_1 = xgb.XGBRegressor(silent=1,learning_rate= 0.2,max_depth= 10,min_samples_= 40,n_estimators= 200)\n"
      ],
      "metadata": {
        "id": "V8IsgW0vInmP"
      },
      "execution_count": 33,
      "outputs": []
    },
    {
      "cell_type": "code",
      "source": [
        "xgb_model_1.fit(X_train,y_train)"
      ],
      "metadata": {
        "colab": {
          "base_uri": "https://localhost:8080/"
        },
        "id": "RVZCkaEOKMkn",
        "outputId": "b0410145-a5cc-4d3b-fe8b-1cb1239f5bd5"
      },
      "execution_count": 34,
      "outputs": [
        {
          "output_type": "execute_result",
          "data": {
            "text/plain": [
              "XGBRegressor(learning_rate=0.2, max_depth=10, min_samples_=40, n_estimators=200,\n",
              "             silent=1)"
            ]
          },
          "metadata": {},
          "execution_count": 34
        }
      ]
    },
    {
      "cell_type": "code",
      "source": [
        "xgb_model_1.score(X_test,y_test)"
      ],
      "metadata": {
        "colab": {
          "base_uri": "https://localhost:8080/"
        },
        "id": "9yGzcvGtlMU-",
        "outputId": "4e726fd7-5029-42f6-9530-1cd3e5380852"
      },
      "execution_count": 67,
      "outputs": [
        {
          "output_type": "execute_result",
          "data": {
            "text/plain": [
              "0.8200019933179409"
            ]
          },
          "metadata": {},
          "execution_count": 67
        }
      ]
    },
    {
      "cell_type": "code",
      "source": [
        "! pip install eli5"
      ],
      "metadata": {
        "colab": {
          "base_uri": "https://localhost:8080/"
        },
        "id": "AEVIb2Qtd_E_",
        "outputId": "8f89b7fd-3e1e-4730-aad2-55dfe952f937"
      },
      "execution_count": 32,
      "outputs": [
        {
          "output_type": "stream",
          "name": "stdout",
          "text": [
            "Collecting eli5\n",
            "  Downloading eli5-0.11.0-py2.py3-none-any.whl (106 kB)\n",
            "\u001b[?25l\r\u001b[K     |███                             | 10 kB 33.2 MB/s eta 0:00:01\r\u001b[K     |██████▏                         | 20 kB 7.4 MB/s eta 0:00:01\r\u001b[K     |█████████▎                      | 30 kB 6.5 MB/s eta 0:00:01\r\u001b[K     |████████████▍                   | 40 kB 6.2 MB/s eta 0:00:01\r\u001b[K     |███████████████▌                | 51 kB 4.2 MB/s eta 0:00:01\r\u001b[K     |██████████████████▌             | 61 kB 4.4 MB/s eta 0:00:01\r\u001b[K     |█████████████████████▋          | 71 kB 4.3 MB/s eta 0:00:01\r\u001b[K     |████████████████████████▊       | 81 kB 4.8 MB/s eta 0:00:01\r\u001b[K     |███████████████████████████▉    | 92 kB 3.9 MB/s eta 0:00:01\r\u001b[K     |███████████████████████████████ | 102 kB 4.3 MB/s eta 0:00:01\r\u001b[K     |████████████████████████████████| 106 kB 4.3 MB/s \n",
            "\u001b[?25hRequirement already satisfied: tabulate>=0.7.7 in /usr/local/lib/python3.7/dist-packages (from eli5) (0.8.9)\n",
            "Requirement already satisfied: scikit-learn>=0.20 in /usr/local/lib/python3.7/dist-packages (from eli5) (1.0.1)\n",
            "Requirement already satisfied: graphviz in /usr/local/lib/python3.7/dist-packages (from eli5) (0.10.1)\n",
            "Requirement already satisfied: jinja2 in /usr/local/lib/python3.7/dist-packages (from eli5) (2.11.3)\n",
            "Requirement already satisfied: six in /usr/local/lib/python3.7/dist-packages (from eli5) (1.15.0)\n",
            "Requirement already satisfied: attrs>16.0.0 in /usr/local/lib/python3.7/dist-packages (from eli5) (21.2.0)\n",
            "Requirement already satisfied: scipy in /usr/local/lib/python3.7/dist-packages (from eli5) (1.4.1)\n",
            "Requirement already satisfied: numpy>=1.9.0 in /usr/local/lib/python3.7/dist-packages (from eli5) (1.19.5)\n",
            "Requirement already satisfied: joblib>=0.11 in /usr/local/lib/python3.7/dist-packages (from scikit-learn>=0.20->eli5) (1.1.0)\n",
            "Requirement already satisfied: threadpoolctl>=2.0.0 in /usr/local/lib/python3.7/dist-packages (from scikit-learn>=0.20->eli5) (3.0.0)\n",
            "Requirement already satisfied: MarkupSafe>=0.23 in /usr/local/lib/python3.7/dist-packages (from jinja2->eli5) (2.0.1)\n",
            "Installing collected packages: eli5\n",
            "Successfully installed eli5-0.11.0\n"
          ]
        }
      ]
    },
    {
      "cell_type": "code",
      "source": [
        "import eli5 as eli"
      ],
      "metadata": {
        "id": "-rmk3WP_fACJ"
      },
      "execution_count": 33,
      "outputs": []
    },
    {
      "cell_type": "code",
      "source": [
        "eli.explain_weights(xgb_model_1)"
      ],
      "metadata": {
        "colab": {
          "base_uri": "https://localhost:8080/",
          "height": 399
        },
        "id": "QchsYcCjfMEh",
        "outputId": "3c0f2a31-75ea-4b8d-b5dc-cb77c0dbe31a"
      },
      "execution_count": 34,
      "outputs": [
        {
          "output_type": "execute_result",
          "data": {
            "text/html": [
              "\n",
              "    <style>\n",
              "    table.eli5-weights tr:hover {\n",
              "        filter: brightness(85%);\n",
              "    }\n",
              "</style>\n",
              "\n",
              "\n",
              "\n",
              "    \n",
              "\n",
              "    \n",
              "\n",
              "    \n",
              "\n",
              "    \n",
              "\n",
              "    \n",
              "\n",
              "    \n",
              "\n",
              "\n",
              "    \n",
              "\n",
              "    \n",
              "\n",
              "    \n",
              "\n",
              "    \n",
              "\n",
              "    \n",
              "\n",
              "    \n",
              "\n",
              "\n",
              "    \n",
              "\n",
              "    \n",
              "\n",
              "    \n",
              "\n",
              "    \n",
              "\n",
              "    \n",
              "        <table class=\"eli5-weights eli5-feature-importances\" style=\"border-collapse: collapse; border: none; margin-top: 0em; table-layout: auto;\">\n",
              "    <thead>\n",
              "    <tr style=\"border: none;\">\n",
              "        <th style=\"padding: 0 1em 0 0.5em; text-align: right; border: none;\">Weight</th>\n",
              "        <th style=\"padding: 0 0.5em 0 0.5em; text-align: left; border: none;\">Feature</th>\n",
              "    </tr>\n",
              "    </thead>\n",
              "    <tbody>\n",
              "    \n",
              "        <tr style=\"background-color: hsl(120, 100.00%, 80.00%); border: none;\">\n",
              "            <td style=\"padding: 0 1em 0 0.5em; text-align: right; border: none;\">\n",
              "                0.5272\n",
              "                \n",
              "            </td>\n",
              "            <td style=\"padding: 0 0.5em 0 0.5em; text-align: left; border: none;\">\n",
              "                pickup_dropoff_distance\n",
              "            </td>\n",
              "        </tr>\n",
              "    \n",
              "        <tr style=\"background-color: hsl(120, 100.00%, 94.57%); border: none;\">\n",
              "            <td style=\"padding: 0 1em 0 0.5em; text-align: right; border: none;\">\n",
              "                0.0818\n",
              "                \n",
              "            </td>\n",
              "            <td style=\"padding: 0 0.5em 0 0.5em; text-align: left; border: none;\">\n",
              "                day_Sunday\n",
              "            </td>\n",
              "        </tr>\n",
              "    \n",
              "        <tr style=\"background-color: hsl(120, 100.00%, 95.53%); border: none;\">\n",
              "            <td style=\"padding: 0 1em 0 0.5em; text-align: right; border: none;\">\n",
              "                0.0621\n",
              "                \n",
              "            </td>\n",
              "            <td style=\"padding: 0 0.5em 0 0.5em; text-align: left; border: none;\">\n",
              "                day_Saturday\n",
              "            </td>\n",
              "        </tr>\n",
              "    \n",
              "        <tr style=\"background-color: hsl(120, 100.00%, 95.68%); border: none;\">\n",
              "            <td style=\"padding: 0 1em 0 0.5em; text-align: right; border: none;\">\n",
              "                0.0591\n",
              "                \n",
              "            </td>\n",
              "            <td style=\"padding: 0 0.5em 0 0.5em; text-align: left; border: none;\">\n",
              "                hour\n",
              "            </td>\n",
              "        </tr>\n",
              "    \n",
              "        <tr style=\"background-color: hsl(120, 100.00%, 96.90%); border: none;\">\n",
              "            <td style=\"padding: 0 1em 0 0.5em; text-align: right; border: none;\">\n",
              "                0.0367\n",
              "                \n",
              "            </td>\n",
              "            <td style=\"padding: 0 0.5em 0 0.5em; text-align: left; border: none;\">\n",
              "                day_Monday\n",
              "            </td>\n",
              "        </tr>\n",
              "    \n",
              "        <tr style=\"background-color: hsl(120, 100.00%, 96.93%); border: none;\">\n",
              "            <td style=\"padding: 0 1em 0 0.5em; text-align: right; border: none;\">\n",
              "                0.0363\n",
              "                \n",
              "            </td>\n",
              "            <td style=\"padding: 0 0.5em 0 0.5em; text-align: left; border: none;\">\n",
              "                dropoff_latitude\n",
              "            </td>\n",
              "        </tr>\n",
              "    \n",
              "        <tr style=\"background-color: hsl(120, 100.00%, 97.93%); border: none;\">\n",
              "            <td style=\"padding: 0 1em 0 0.5em; text-align: right; border: none;\">\n",
              "                0.0206\n",
              "                \n",
              "            </td>\n",
              "            <td style=\"padding: 0 0.5em 0 0.5em; text-align: left; border: none;\">\n",
              "                dropoff_longitude\n",
              "            </td>\n",
              "        </tr>\n",
              "    \n",
              "        <tr style=\"background-color: hsl(120, 100.00%, 97.95%); border: none;\">\n",
              "            <td style=\"padding: 0 1em 0 0.5em; text-align: right; border: none;\">\n",
              "                0.0203\n",
              "                \n",
              "            </td>\n",
              "            <td style=\"padding: 0 0.5em 0 0.5em; text-align: left; border: none;\">\n",
              "                month_January\n",
              "            </td>\n",
              "        </tr>\n",
              "    \n",
              "        <tr style=\"background-color: hsl(120, 100.00%, 98.13%); border: none;\">\n",
              "            <td style=\"padding: 0 1em 0 0.5em; text-align: right; border: none;\">\n",
              "                0.0178\n",
              "                \n",
              "            </td>\n",
              "            <td style=\"padding: 0 0.5em 0 0.5em; text-align: left; border: none;\">\n",
              "                pickup_longitude\n",
              "            </td>\n",
              "        </tr>\n",
              "    \n",
              "        <tr style=\"background-color: hsl(120, 100.00%, 98.14%); border: none;\">\n",
              "            <td style=\"padding: 0 1em 0 0.5em; text-align: right; border: none;\">\n",
              "                0.0177\n",
              "                \n",
              "            </td>\n",
              "            <td style=\"padding: 0 0.5em 0 0.5em; text-align: left; border: none;\">\n",
              "                pickup_latitude\n",
              "            </td>\n",
              "        </tr>\n",
              "    \n",
              "        <tr style=\"background-color: hsl(120, 100.00%, 98.29%); border: none;\">\n",
              "            <td style=\"padding: 0 1em 0 0.5em; text-align: right; border: none;\">\n",
              "                0.0157\n",
              "                \n",
              "            </td>\n",
              "            <td style=\"padding: 0 0.5em 0 0.5em; text-align: left; border: none;\">\n",
              "                day_Tuesday\n",
              "            </td>\n",
              "        </tr>\n",
              "    \n",
              "        <tr style=\"background-color: hsl(120, 100.00%, 98.47%); border: none;\">\n",
              "            <td style=\"padding: 0 1em 0 0.5em; text-align: right; border: none;\">\n",
              "                0.0134\n",
              "                \n",
              "            </td>\n",
              "            <td style=\"padding: 0 0.5em 0 0.5em; text-align: left; border: none;\">\n",
              "                month_June\n",
              "            </td>\n",
              "        </tr>\n",
              "    \n",
              "        <tr style=\"background-color: hsl(120, 100.00%, 98.51%); border: none;\">\n",
              "            <td style=\"padding: 0 1em 0 0.5em; text-align: right; border: none;\">\n",
              "                0.0129\n",
              "                \n",
              "            </td>\n",
              "            <td style=\"padding: 0 0.5em 0 0.5em; text-align: left; border: none;\">\n",
              "                day_Wednesday\n",
              "            </td>\n",
              "        </tr>\n",
              "    \n",
              "        <tr style=\"background-color: hsl(120, 100.00%, 98.58%); border: none;\">\n",
              "            <td style=\"padding: 0 1em 0 0.5em; text-align: right; border: none;\">\n",
              "                0.0121\n",
              "                \n",
              "            </td>\n",
              "            <td style=\"padding: 0 0.5em 0 0.5em; text-align: left; border: none;\">\n",
              "                day_Thursday\n",
              "            </td>\n",
              "        </tr>\n",
              "    \n",
              "        <tr style=\"background-color: hsl(120, 100.00%, 98.63%); border: none;\">\n",
              "            <td style=\"padding: 0 1em 0 0.5em; text-align: right; border: none;\">\n",
              "                0.0115\n",
              "                \n",
              "            </td>\n",
              "            <td style=\"padding: 0 0.5em 0 0.5em; text-align: left; border: none;\">\n",
              "                month_May\n",
              "            </td>\n",
              "        </tr>\n",
              "    \n",
              "        <tr style=\"background-color: hsl(120, 100.00%, 98.67%); border: none;\">\n",
              "            <td style=\"padding: 0 1em 0 0.5em; text-align: right; border: none;\">\n",
              "                0.0110\n",
              "                \n",
              "            </td>\n",
              "            <td style=\"padding: 0 0.5em 0 0.5em; text-align: left; border: none;\">\n",
              "                day_no\n",
              "            </td>\n",
              "        </tr>\n",
              "    \n",
              "        <tr style=\"background-color: hsl(120, 100.00%, 98.72%); border: none;\">\n",
              "            <td style=\"padding: 0 1em 0 0.5em; text-align: right; border: none;\">\n",
              "                0.0104\n",
              "                \n",
              "            </td>\n",
              "            <td style=\"padding: 0 0.5em 0 0.5em; text-align: left; border: none;\">\n",
              "                month_February\n",
              "            </td>\n",
              "        </tr>\n",
              "    \n",
              "        <tr style=\"background-color: hsl(120, 100.00%, 98.82%); border: none;\">\n",
              "            <td style=\"padding: 0 1em 0 0.5em; text-align: right; border: none;\">\n",
              "                0.0092\n",
              "                \n",
              "            </td>\n",
              "            <td style=\"padding: 0 0.5em 0 0.5em; text-align: left; border: none;\">\n",
              "                month_March\n",
              "            </td>\n",
              "        </tr>\n",
              "    \n",
              "        <tr style=\"background-color: hsl(120, 100.00%, 99.11%); border: none;\">\n",
              "            <td style=\"padding: 0 1em 0 0.5em; text-align: right; border: none;\">\n",
              "                0.0062\n",
              "                \n",
              "            </td>\n",
              "            <td style=\"padding: 0 0.5em 0 0.5em; text-align: left; border: none;\">\n",
              "                minute\n",
              "            </td>\n",
              "        </tr>\n",
              "    \n",
              "        <tr style=\"background-color: hsl(120, 100.00%, 99.20%); border: none;\">\n",
              "            <td style=\"padding: 0 1em 0 0.5em; text-align: right; border: none;\">\n",
              "                0.0053\n",
              "                \n",
              "            </td>\n",
              "            <td style=\"padding: 0 0.5em 0 0.5em; text-align: left; border: none;\">\n",
              "                second\n",
              "            </td>\n",
              "        </tr>\n",
              "    \n",
              "    \n",
              "        \n",
              "            <tr style=\"background-color: hsl(120, 100.00%, 99.20%); border: none;\">\n",
              "                <td colspan=\"2\" style=\"padding: 0 0.5em 0 0.5em; text-align: center; border: none; white-space: nowrap;\">\n",
              "                    <i>&hellip; 3 more &hellip;</i>\n",
              "                </td>\n",
              "            </tr>\n",
              "        \n",
              "    \n",
              "    </tbody>\n",
              "</table>\n",
              "    \n",
              "\n",
              "    \n",
              "\n",
              "\n",
              "    \n",
              "\n",
              "    \n",
              "\n",
              "    \n",
              "\n",
              "    \n",
              "\n",
              "    \n",
              "\n",
              "    \n",
              "\n",
              "\n",
              "\n"
            ],
            "text/plain": [
              "Explanation(estimator=\"XGBRegressor(learning_rate=0.2, max_depth=10, min_samples_=40, n_estimators=200,\\n             silent=1, tree_method='gpu_hist')\", description='\\nXGBoost feature importances; values are numbers 0 <= x <= 1;\\nall values sum to 1.\\n', error=None, method='feature importances', is_regression=True, targets=None, feature_importances=FeatureImportances(importances=[FeatureWeight(feature='pickup_dropoff_distance', weight=0.5271692, std=None, value=None), FeatureWeight(feature='day_Sunday', weight=0.08180442, std=None, value=None), FeatureWeight(feature='day_Saturday', weight=0.062062327, std=None, value=None), FeatureWeight(feature='hour', weight=0.059078217, std=None, value=None), FeatureWeight(feature='day_Monday', weight=0.036736004, std=None, value=None), FeatureWeight(feature='dropoff_latitude', weight=0.036300212, std=None, value=None), FeatureWeight(feature='dropoff_longitude', weight=0.0206462, std=None, value=None), FeatureWeight(feature='month_January', weight=0.02030942, std=None, value=None), FeatureWeight(feature='pickup_longitude', weight=0.017828943, std=None, value=None), FeatureWeight(feature='pickup_latitude', weight=0.017729128, std=None, value=None), FeatureWeight(feature='day_Tuesday', weight=0.015665889, std=None, value=None), FeatureWeight(feature='month_June', weight=0.013448671, std=None, value=None), FeatureWeight(feature='day_Wednesday', weight=0.012925028, std=None, value=None), FeatureWeight(feature='day_Thursday', weight=0.012105762, std=None, value=None), FeatureWeight(feature='month_May', weight=0.011493244, std=None, value=None), FeatureWeight(feature='day_no', weight=0.010959929, std=None, value=None), FeatureWeight(feature='month_February', weight=0.010360512, std=None, value=None), FeatureWeight(feature='month_March', weight=0.009241174, std=None, value=None), FeatureWeight(feature='minute', weight=0.0061816364, std=None, value=None), FeatureWeight(feature='second', weight=0.005316022, std=None, value=None)], remaining=3), decision_tree=None, highlight_spaces=None, transition_features=None, image=None)"
            ]
          },
          "metadata": {},
          "execution_count": 34
        }
      ]
    },
    {
      "cell_type": "code",
      "source": [
        "! pip install shapash"
      ],
      "metadata": {
        "colab": {
          "base_uri": "https://localhost:8080/"
        },
        "id": "1CJr502ugPiv",
        "outputId": "b14e7994-47dd-4f75-98df-1741bba49954"
      },
      "execution_count": 36,
      "outputs": [
        {
          "output_type": "stream",
          "name": "stdout",
          "text": [
            "Requirement already satisfied: shapash in /usr/local/lib/python3.7/dist-packages (1.6.0)\n",
            "Requirement already satisfied: dash-bootstrap-components==0.9.1 in /usr/local/lib/python3.7/dist-packages (from shapash) (0.9.1)\n",
            "Requirement already satisfied: dash-daq==0.5.0 in /usr/local/lib/python3.7/dist-packages (from shapash) (0.5.0)\n",
            "Requirement already satisfied: scikit-learn in /usr/local/lib/python3.7/dist-packages (from shapash) (1.0.1)\n",
            "Requirement already satisfied: dash-html-components==1.1.1 in /usr/local/lib/python3.7/dist-packages (from shapash) (1.1.1)\n",
            "Requirement already satisfied: pandas>1.0.2 in /usr/local/lib/python3.7/dist-packages (from shapash) (1.1.5)\n",
            "Requirement already satisfied: nbformat>4.2.0 in /usr/local/lib/python3.7/dist-packages (from shapash) (5.1.3)\n",
            "Requirement already satisfied: plotly==4.12.0 in /usr/local/lib/python3.7/dist-packages (from shapash) (4.12.0)\n",
            "Requirement already satisfied: numpy>1.18.0 in /usr/local/lib/python3.7/dist-packages (from shapash) (1.19.5)\n",
            "Requirement already satisfied: dash-renderer==1.8.3 in /usr/local/lib/python3.7/dist-packages (from shapash) (1.8.3)\n",
            "Requirement already satisfied: matplotlib>=3.3.0 in /usr/local/lib/python3.7/dist-packages (from shapash) (3.5.1)\n",
            "Requirement already satisfied: dash-core-components==1.13.0 in /usr/local/lib/python3.7/dist-packages (from shapash) (1.13.0)\n",
            "Requirement already satisfied: dash==1.17.0 in /usr/local/lib/python3.7/dist-packages (from shapash) (1.17.0)\n",
            "Requirement already satisfied: numba==0.53.1 in /usr/local/lib/python3.7/dist-packages (from shapash) (0.53.1)\n",
            "Requirement already satisfied: dash-table==4.11.0 in /usr/local/lib/python3.7/dist-packages (from shapash) (4.11.0)\n",
            "Requirement already satisfied: shap>=0.36.0 in /usr/local/lib/python3.7/dist-packages (from shapash) (0.40.0)\n",
            "Requirement already satisfied: flask-compress in /usr/local/lib/python3.7/dist-packages (from dash==1.17.0->shapash) (1.10.1)\n",
            "Requirement already satisfied: future in /usr/local/lib/python3.7/dist-packages (from dash==1.17.0->shapash) (0.16.0)\n",
            "Requirement already satisfied: Flask>=1.0.2 in /usr/local/lib/python3.7/dist-packages (from dash==1.17.0->shapash) (1.1.4)\n",
            "Requirement already satisfied: setuptools in /usr/local/lib/python3.7/dist-packages (from numba==0.53.1->shapash) (57.4.0)\n",
            "Requirement already satisfied: llvmlite<0.37,>=0.36.0rc1 in /usr/local/lib/python3.7/dist-packages (from numba==0.53.1->shapash) (0.36.0)\n",
            "Requirement already satisfied: six in /usr/local/lib/python3.7/dist-packages (from plotly==4.12.0->shapash) (1.15.0)\n",
            "Requirement already satisfied: retrying>=1.3.3 in /usr/local/lib/python3.7/dist-packages (from plotly==4.12.0->shapash) (1.3.3)\n",
            "Requirement already satisfied: click<8.0,>=5.1 in /usr/local/lib/python3.7/dist-packages (from Flask>=1.0.2->dash==1.17.0->shapash) (7.1.2)\n",
            "Requirement already satisfied: Jinja2<3.0,>=2.10.1 in /usr/local/lib/python3.7/dist-packages (from Flask>=1.0.2->dash==1.17.0->shapash) (2.11.3)\n",
            "Requirement already satisfied: Werkzeug<2.0,>=0.15 in /usr/local/lib/python3.7/dist-packages (from Flask>=1.0.2->dash==1.17.0->shapash) (1.0.1)\n",
            "Requirement already satisfied: itsdangerous<2.0,>=0.24 in /usr/local/lib/python3.7/dist-packages (from Flask>=1.0.2->dash==1.17.0->shapash) (1.1.0)\n",
            "Requirement already satisfied: MarkupSafe>=0.23 in /usr/local/lib/python3.7/dist-packages (from Jinja2<3.0,>=2.10.1->Flask>=1.0.2->dash==1.17.0->shapash) (2.0.1)\n",
            "Requirement already satisfied: pillow>=6.2.0 in /usr/local/lib/python3.7/dist-packages (from matplotlib>=3.3.0->shapash) (7.1.2)\n",
            "Requirement already satisfied: packaging>=20.0 in /usr/local/lib/python3.7/dist-packages (from matplotlib>=3.3.0->shapash) (21.3)\n",
            "Requirement already satisfied: pyparsing>=2.2.1 in /usr/local/lib/python3.7/dist-packages (from matplotlib>=3.3.0->shapash) (3.0.6)\n",
            "Requirement already satisfied: fonttools>=4.22.0 in /usr/local/lib/python3.7/dist-packages (from matplotlib>=3.3.0->shapash) (4.28.5)\n",
            "Requirement already satisfied: kiwisolver>=1.0.1 in /usr/local/lib/python3.7/dist-packages (from matplotlib>=3.3.0->shapash) (1.3.2)\n",
            "Requirement already satisfied: cycler>=0.10 in /usr/local/lib/python3.7/dist-packages (from matplotlib>=3.3.0->shapash) (0.11.0)\n",
            "Requirement already satisfied: python-dateutil>=2.7 in /usr/local/lib/python3.7/dist-packages (from matplotlib>=3.3.0->shapash) (2.8.2)\n",
            "Requirement already satisfied: jsonschema!=2.5.0,>=2.4 in /usr/local/lib/python3.7/dist-packages (from nbformat>4.2.0->shapash) (2.6.0)\n",
            "Requirement already satisfied: jupyter-core in /usr/local/lib/python3.7/dist-packages (from nbformat>4.2.0->shapash) (4.9.1)\n",
            "Requirement already satisfied: ipython-genutils in /usr/local/lib/python3.7/dist-packages (from nbformat>4.2.0->shapash) (0.2.0)\n",
            "Requirement already satisfied: traitlets>=4.1 in /usr/local/lib/python3.7/dist-packages (from nbformat>4.2.0->shapash) (5.1.1)\n",
            "Requirement already satisfied: pytz>=2017.2 in /usr/local/lib/python3.7/dist-packages (from pandas>1.0.2->shapash) (2018.9)\n",
            "Requirement already satisfied: cloudpickle in /usr/local/lib/python3.7/dist-packages (from shap>=0.36.0->shapash) (1.3.0)\n",
            "Requirement already satisfied: scipy in /usr/local/lib/python3.7/dist-packages (from shap>=0.36.0->shapash) (1.4.1)\n",
            "Requirement already satisfied: slicer==0.0.7 in /usr/local/lib/python3.7/dist-packages (from shap>=0.36.0->shapash) (0.0.7)\n",
            "Requirement already satisfied: tqdm>4.25.0 in /usr/local/lib/python3.7/dist-packages (from shap>=0.36.0->shapash) (4.62.3)\n",
            "Requirement already satisfied: brotli in /usr/local/lib/python3.7/dist-packages (from flask-compress->dash==1.17.0->shapash) (1.0.9)\n",
            "Requirement already satisfied: threadpoolctl>=2.0.0 in /usr/local/lib/python3.7/dist-packages (from scikit-learn->shapash) (3.0.0)\n",
            "Requirement already satisfied: joblib>=0.11 in /usr/local/lib/python3.7/dist-packages (from scikit-learn->shapash) (1.1.0)\n"
          ]
        }
      ]
    },
    {
      "cell_type": "code",
      "source": [
        "from shapash.explainer.smart_explainer import SmartExplainer\n",
        "xpl = SmartExplainer()"
      ],
      "metadata": {
        "id": "UNfU2qiWgRP9"
      },
      "execution_count": 37,
      "outputs": []
    },
    {
      "cell_type": "code",
      "source": [
        "y_pred = pd.DataFrame(xgb_model_1.predict(X_test),columns=['pred'],index=X_test.index)"
      ],
      "metadata": {
        "id": "wqbNQkQRhrZF"
      },
      "execution_count": 60,
      "outputs": []
    },
    {
      "cell_type": "code",
      "source": [
        "xpl.compile(\n",
        "    x=X_test[0:30],\n",
        "    model=xgb_model_1,\n",
        "     # Optional: compile step can use inverse_transform method\n",
        "    y_pred=y_pred[0:30], # Optional\n",
        "    # Optional: see tutorial postprocessing\n",
        ")"
      ],
      "metadata": {
        "colab": {
          "base_uri": "https://localhost:8080/"
        },
        "id": "Ew2TAb6ShfZk",
        "outputId": "e7ea466e-12d5-4fdf-b609-ad8ddfd03244"
      },
      "execution_count": 61,
      "outputs": [
        {
          "output_type": "stream",
          "name": "stdout",
          "text": [
            "Backend: Shap TreeExplainer\n"
          ]
        }
      ]
    },
    {
      "cell_type": "code",
      "source": [
        "app = xpl.run_app()"
      ],
      "metadata": {
        "colab": {
          "base_uri": "https://localhost:8080/"
        },
        "id": "n9PLHQJ_iAeJ",
        "outputId": "d12209c5-0c98-4fbb-a2b6-1938cc344dbf"
      },
      "execution_count": 62,
      "outputs": [
        {
          "output_type": "stream",
          "name": "stdout",
          "text": [
            "Dash is running on http://0.0.0.0:8050/\n",
            "\n",
            "Dash is running on http://0.0.0.0:8050/\n",
            "\n"
          ]
        },
        {
          "output_type": "stream",
          "name": "stderr",
          "text": [
            "INFO:root:Your Shapash application run on http://b8fbd30a485a:8050/\n",
            "INFO:root:Use the method .kill() to down your app.\n",
            "INFO:shapash.webapp.smart_app:Dash is running on http://0.0.0.0:8050/\n",
            "\n"
          ]
        },
        {
          "output_type": "stream",
          "name": "stdout",
          "text": [
            " * Serving Flask app \"shapash.webapp.smart_app\" (lazy loading)\n",
            " * Environment: production\n"
          ]
        }
      ]
    },
    {
      "cell_type": "code",
      "source": [
        "xpl.plot.features_importance()"
      ],
      "metadata": {
        "colab": {
          "base_uri": "https://localhost:8080/",
          "height": 517
        },
        "id": "c_l38I71s51U",
        "outputId": "4ce1e5c9-9fbb-403c-a8b9-a76735903e21"
      },
      "execution_count": 64,
      "outputs": [
        {
          "output_type": "display_data",
          "data": {
            "text/html": [
              "<html>\n",
              "<head><meta charset=\"utf-8\" /></head>\n",
              "<body>\n",
              "    <div>            <script src=\"https://cdnjs.cloudflare.com/ajax/libs/mathjax/2.7.5/MathJax.js?config=TeX-AMS-MML_SVG\"></script><script type=\"text/javascript\">if (window.MathJax) {MathJax.Hub.Config({SVG: {font: \"STIX-Web\"}});}</script>                <script type=\"text/javascript\">window.PlotlyConfig = {MathJaxConfig: 'local'};</script>\n",
              "        <script src=\"https://cdn.plot.ly/plotly-latest.min.js\"></script>                <div id=\"e422f9ae-5cd9-4299-ba76-d823df52c006\" class=\"plotly-graph-div\" style=\"height:500px; width:900px;\"></div>            <script type=\"text/javascript\">                                    window.PLOTLYENV=window.PLOTLYENV || {};                                    if (document.getElementById(\"e422f9ae-5cd9-4299-ba76-d823df52c006\")) {                    Plotly.newPlot(                        \"e422f9ae-5cd9-4299-ba76-d823df52c006\",                        [{\"marker\": {\"color\": [\"rgba(244, 192, 0, 1.0)\", \"rgba(244, 192, 0, 1.0)\", \"rgba(244, 192, 0, 1.0)\", \"rgba(244, 192, 0, 1.0)\", \"rgba(244, 192, 0, 1.0)\", \"rgba(244, 192, 0, 1.0)\", \"rgba(244, 192, 0, 1.0)\", \"rgba(244, 192, 0, 1.0)\", \"rgba(244, 192, 0, 1.0)\", \"rgba(244, 192, 0, 1.0)\", \"rgba(244, 192, 0, 1.0)\", \"rgba(244, 192, 0, 1.0)\", \"rgba(244, 192, 0, 1.0)\", \"rgba(244, 192, 0, 1.0)\", \"rgba(244, 192, 0, 1.0)\", \"rgba(244, 192, 0, 1.0)\", \"rgba(244, 192, 0, 1.0)\", \"rgba(244, 192, 0, 1.0)\", \"rgba(244, 192, 0, 1.0)\", \"rgba(244, 192, 0, 1.0)\"], \"line\": {\"color\": \"rgba(52, 55, 54, 0.8)\", \"width\": 0.5}}, \"name\": \"Global\", \"orientation\": \"h\", \"type\": \"bar\", \"x\": [0.004800000227987766, 0.005499999970197678, 0.006399999838322401, 0.006399999838322401, 0.0066999997943639755, 0.006899999920278788, 0.0071000000461936, 0.008500000461935997, 0.00930000003427267, 0.009399999864399433, 0.016300000250339508, 0.02250000089406967, 0.032600000500679016, 0.03269999846816063, 0.03999999910593033, 0.04989999905228615, 0.05310000106692314, 0.06449999660253525, 0.1445000022649765, 0.46700000762939453], \"y\": [\"vendor_id\", \"day_Tuesday\", \"minute\", \"month_May\", \"month_February\", \"day_Thursday\", \"month_March\", \"passenger_count\", \"month_January\", \"month_June\", \"day_no\", \"day_Monday\", \"day_Sunday\", \"day_Saturday\", \"pickup_latitude\", \"dropoff_longitude\", \"pickup_longitude\", \"dropoff_latitude\", \"hour\", \"pickup_dropoff_distance\"]}],                        {\"autosize\": false, \"barmode\": \"group\", \"height\": 500, \"hovermode\": \"closest\", \"margin\": {\"b\": 50, \"l\": 160, \"r\": 0, \"t\": 95}, \"template\": {\"data\": {\"scatter\": [{\"type\": \"scatter\"}]}}, \"title\": {\"font\": {\"color\": \"rgb(50, 50, 50)\", \"family\": \"Arial\", \"size\": 24}, \"text\": \"Features Importance<span style='font-size: 12px;'><br />Total number of features: 23</span>\", \"x\": 0.5, \"xanchor\": \"center\", \"y\": 0.9, \"yanchor\": \"middle\"}, \"width\": 900, \"xaxis\": {\"automargin\": true, \"title\": {\"font\": {\"color\": \"rgb(50, 50, 50)\", \"family\": \"Arial Black\", \"size\": 16}, \"text\": \"Contribution\"}}, \"yaxis\": {\"automargin\": true, \"title\": {\"font\": {\"color\": \"rgb(50, 50, 50)\", \"family\": \"Arial Black\", \"size\": 16}}}},                        {\"responsive\": true}                    ).then(function(){\n",
              "                            \n",
              "var gd = document.getElementById('e422f9ae-5cd9-4299-ba76-d823df52c006');\n",
              "var x = new MutationObserver(function (mutations, observer) {{\n",
              "        var display = window.getComputedStyle(gd).display;\n",
              "        if (!display || display === 'none') {{\n",
              "            console.log([gd, 'removed!']);\n",
              "            Plotly.purge(gd);\n",
              "            observer.disconnect();\n",
              "        }}\n",
              "}});\n",
              "\n",
              "// Listen for the removal of the full notebook cells\n",
              "var notebookContainer = gd.closest('#notebook-container');\n",
              "if (notebookContainer) {{\n",
              "    x.observe(notebookContainer, {childList: true});\n",
              "}}\n",
              "\n",
              "// Listen for the clearing of the current output cell\n",
              "var outputEl = gd.closest('.output');\n",
              "if (outputEl) {{\n",
              "    x.observe(outputEl, {childList: true});\n",
              "}}\n",
              "\n",
              "                        })                };                            </script>        </div>\n",
              "</body>\n",
              "</html>"
            ]
          },
          "metadata": {}
        }
      ]
    },
    {
      "cell_type": "code",
      "source": [
        "xpl.plot.contribution_plot(\"hour\")"
      ],
      "metadata": {
        "colab": {
          "base_uri": "https://localhost:8080/",
          "height": 617
        },
        "id": "dGIBZF_etePQ",
        "outputId": "680ff40b-1305-4aa8-ec00-b2cf9dceea5e"
      },
      "execution_count": 66,
      "outputs": [
        {
          "output_type": "display_data",
          "data": {
            "text/html": [
              "<html>\n",
              "<head><meta charset=\"utf-8\" /></head>\n",
              "<body>\n",
              "    <div>            <script src=\"https://cdnjs.cloudflare.com/ajax/libs/mathjax/2.7.5/MathJax.js?config=TeX-AMS-MML_SVG\"></script><script type=\"text/javascript\">if (window.MathJax) {MathJax.Hub.Config({SVG: {font: \"STIX-Web\"}});}</script>                <script type=\"text/javascript\">window.PlotlyConfig = {MathJaxConfig: 'local'};</script>\n",
              "        <script src=\"https://cdn.plot.ly/plotly-latest.min.js\"></script>                <div id=\"e1ba1e1f-15c1-42f7-b15f-eede7a6437ed\" class=\"plotly-graph-div\" style=\"height:600px; width:900px;\"></div>            <script type=\"text/javascript\">                                    window.PLOTLYENV=window.PLOTLYENV || {};                                    if (document.getElementById(\"e1ba1e1f-15c1-42f7-b15f-eede7a6437ed\")) {                    Plotly.newPlot(                        \"e1ba1e1f-15c1-42f7-b15f-eede7a6437ed\",                        [{\"customdata\": [290543, 331927, 1049824, 681274, 382875, 235231, 120724, 1343044, 583123, 283652, 412151, 1089863, 289254, 1161513, 1028048, 874111, 393762, 581176, 284724, 1254079, 953741, 1307078, 577137, 400468, 572054, 1295240, 546168, 395090, 62030, 200670], \"hovertemplate\": \"<b>%{hovertext}</b><br />hour : %{x}<br />Contribution: %{y:.4f}<extra></extra>\", \"hovertext\": [\"Id: 290543<br />Predict: 2.958\", \"Id: 331927<br />Predict: 3.098\", \"Id: 1049824<br />Predict: 2.621\", \"Id: 681274<br />Predict: 3.485\", \"Id: 382875<br />Predict: 2.941\", \"Id: 235231<br />Predict: 2.396\", \"Id: 120724<br />Predict: 2.59\", \"Id: 1343044<br />Predict: 2.59\", \"Id: 583123<br />Predict: 3.115\", \"Id: 283652<br />Predict: 2.983\", \"Id: 412151<br />Predict: 2.546\", \"Id: 1089863<br />Predict: 2.91\", \"Id: 289254<br />Predict: 3.59\", \"Id: 1161513<br />Predict: 3.094\", \"Id: 1028048<br />Predict: 2.927\", \"Id: 874111<br />Predict: 2.411\", \"Id: 393762<br />Predict: 2.918\", \"Id: 581176<br />Predict: 2.857\", \"Id: 284724<br />Predict: 3.586\", \"Id: 1254079<br />Predict: 2.534\", \"Id: 953741<br />Predict: 2.759\", \"Id: 1307078<br />Predict: 3.12\", \"Id: 577137<br />Predict: 2.936\", \"Id: 400468<br />Predict: 2.558\", \"Id: 572054<br />Predict: 3.09\", \"Id: 1295240<br />Predict: 2.349\", \"Id: 546168<br />Predict: 2.766\", \"Id: 395090<br />Predict: 2.746\", \"Id: 62030<br />Predict: 2.894\", \"Id: 200670<br />Predict: 2.787\"], \"marker\": {\"color\": [2.958, 3.098, 2.621, 3.485, 2.941, 2.396, 2.59, 2.59, 3.115, 2.983, 2.546, 2.91, 3.59, 3.094, 2.927, 2.411, 2.918, 2.857, 3.586, 2.534, 2.759, 3.12, 2.936, 2.558, 3.09, 2.349, 2.766, 2.746, 2.894, 2.787], \"coloraxis\": \"coloraxis\", \"line\": {\"color\": \"white\", \"width\": 0.8}, \"opacity\": 0.8, \"size\": 10}, \"mode\": \"markers\", \"type\": \"scatter\", \"x\": [15, 12, 16, 15, 20, 20, 21, 2, 4, 17, 14, 7, 14, 10, 18, 21, 10, 20, 16, 7, 20, 0, 13, 21, 11, 12, 12, 4, 19, 15], \"y\": [0.09996791929006577, 0.09244044870138168, 0.06149519979953766, 0.11464609950780869, -0.010790161788463593, -0.04854762926697731, 0.004516006447374821, -0.2029440999031067, -0.10521451383829117, 0.053238704800605774, 0.06879658997058868, -0.1038878858089447, 0.09492567926645279, 0.025466499850153923, 0.04578453674912453, -0.03784811124205589, -0.0005142716108821332, -0.03668380528688431, 0.11404673010110855, -0.09209474176168442, -0.02199186384677887, -0.08031454682350159, 0.05539350584149361, -0.06872272491455078, 0.05329202115535736, 0.04571579396724701, 0.06356093287467957, -0.09984444826841354, 0.015174380503594875, 0.05151668190956116]}],                        {\"coloraxis\": {\"colorbar\": {\"title\": {\"text\": \"Predicted\"}}, \"colorscale\": [[0.0, \"rgb(52, 55, 54)\"], [0.13923084564667812, \"rgb(74, 99, 138)\"], [0.18871328453918892, \"rgb(116, 153, 214)\"], [0.2895858108457349, \"rgb(162, 188, 213)\"], [0.3465934120411285, \"rgb(212, 234, 242)\"], [0.44568812444601236, \"rgb(235, 216, 134)\"], [0.468712777267624, \"rgb(255, 204, 83)\"], [0.4966019146042909, \"rgb(244 ,192, 0)\"], [0.6011580010656546, \"rgb(255, 166, 17)\"], [0.6511197347277157, \"rgb(255, 123, 38)\"], [1.0, \"rgb(255, 77, 7)\"]]}, \"height\": 600, \"hovermode\": \"closest\", \"template\": {\"data\": {\"scatter\": [{\"type\": \"scatter\"}]}}, \"title\": {\"font\": {\"color\": \"rgb(50, 50, 50)\", \"family\": \"Arial\", \"size\": 24}, \"text\": \"<b>hour</b> - Feature Contribution\", \"x\": 0.5, \"xanchor\": \"center\", \"y\": 0.9, \"yanchor\": \"middle\"}, \"width\": 900, \"xaxis\": {\"automargin\": true, \"title\": {\"font\": {\"color\": \"rgb(50, 50, 50)\", \"family\": \"Arial Black\", \"size\": 16}, \"text\": \"hour\"}}, \"yaxis\": {\"automargin\": true, \"title\": {\"font\": {\"color\": \"rgb(50, 50, 50)\", \"family\": \"Arial Black\", \"size\": 16}, \"text\": \"Contribution\"}}},                        {\"responsive\": true}                    ).then(function(){\n",
              "                            \n",
              "var gd = document.getElementById('e1ba1e1f-15c1-42f7-b15f-eede7a6437ed');\n",
              "var x = new MutationObserver(function (mutations, observer) {{\n",
              "        var display = window.getComputedStyle(gd).display;\n",
              "        if (!display || display === 'none') {{\n",
              "            console.log([gd, 'removed!']);\n",
              "            Plotly.purge(gd);\n",
              "            observer.disconnect();\n",
              "        }}\n",
              "}});\n",
              "\n",
              "// Listen for the removal of the full notebook cells\n",
              "var notebookContainer = gd.closest('#notebook-container');\n",
              "if (notebookContainer) {{\n",
              "    x.observe(notebookContainer, {childList: true});\n",
              "}}\n",
              "\n",
              "// Listen for the clearing of the current output cell\n",
              "var outputEl = gd.closest('.output');\n",
              "if (outputEl) {{\n",
              "    x.observe(outputEl, {childList: true});\n",
              "}}\n",
              "\n",
              "                        })                };                            </script>        </div>\n",
              "</body>\n",
              "</html>"
            ]
          },
          "metadata": {}
        }
      ]
    },
    {
      "cell_type": "code",
      "source": [
        "xpl.plot.local_plot(331927)"
      ],
      "metadata": {
        "colab": {
          "base_uri": "https://localhost:8080/",
          "height": 567
        },
        "id": "HQLlYcuOt_aB",
        "outputId": "a4abb992-d9f1-46d7-c898-4f717edbf141"
      },
      "execution_count": 72,
      "outputs": [
        {
          "output_type": "display_data",
          "data": {
            "text/html": [
              "<html>\n",
              "<head><meta charset=\"utf-8\" /></head>\n",
              "<body>\n",
              "    <div>            <script src=\"https://cdnjs.cloudflare.com/ajax/libs/mathjax/2.7.5/MathJax.js?config=TeX-AMS-MML_SVG\"></script><script type=\"text/javascript\">if (window.MathJax) {MathJax.Hub.Config({SVG: {font: \"STIX-Web\"}});}</script>                <script type=\"text/javascript\">window.PlotlyConfig = {MathJaxConfig: 'local'};</script>\n",
              "        <script src=\"https://cdn.plot.ly/plotly-latest.min.js\"></script>                <div id=\"e35c89fa-0a3d-45c1-b281-bb2e21b1e7c9\" class=\"plotly-graph-div\" style=\"height:550px; width:900px;\"></div>            <script type=\"text/javascript\">                                    window.PLOTLYENV=window.PLOTLYENV || {};                                    if (document.getElementById(\"e35c89fa-0a3d-45c1-b281-bb2e21b1e7c9\")) {                    Plotly.newPlot(                        \"e35c89fa-0a3d-45c1-b281-bb2e21b1e7c9\",                        [{\"customdata\": [\"<b>Hidden Negative Contributions</b>\"], \"hovertemplate\": \"%{customdata}<br />Contribution: %{x:.4f}<extra></extra>\", \"marker\": {\"color\": \"rgba(52, 55, 54, 0.7)\", \"line\": {\"color\": \"rgba(27, 28, 28, 1.0)\", \"width\": 0.5}}, \"orientation\": \"h\", \"showlegend\": false, \"type\": \"bar\", \"x\": [-7.65465392760234e-06], \"y\": [\"<i>Hidden Negative Contributions</i>\"]}, {\"customdata\": [\"<b>pickup_dropoff_distance :</b><br />1.8359550994663563\"], \"hovertemplate\": \"%{customdata}<br />Contribution: %{x:.4f}<extra></extra>\", \"marker\": {\"color\": \"rgba(74, 99, 138, 0.7)\", \"line\": {\"color\": \"rgba(27, 28, 28, 1.0)\", \"width\": 0.5}}, \"orientation\": \"h\", \"showlegend\": false, \"type\": \"bar\", \"x\": [-0.02636738307774067], \"y\": [\"<b>pickup_dropoff_distance</b>\"]}, {\"customdata\": [\"<b>day_no :</b><br />0.9999999999999999\"], \"hovertemplate\": \"%{customdata}<br />Contribution: %{x:.4f}<extra></extra>\", \"marker\": {\"color\": \"rgba(74, 99, 138, 0.7)\", \"line\": {\"color\": \"rgba(27, 28, 28, 1.0)\", \"width\": 0.5}}, \"orientation\": \"h\", \"showlegend\": false, \"type\": \"bar\", \"x\": [-0.004534503910690546], \"y\": [\"<b>day_no</b>\"]}, {\"customdata\": [\"<b>month_June :</b><br />0.0\"], \"hovertemplate\": \"%{customdata}<br />Contribution: %{x:.4f}<extra></extra>\", \"marker\": {\"color\": \"rgba(74, 99, 138, 0.7)\", \"line\": {\"color\": \"rgba(27, 28, 28, 1.0)\", \"width\": 0.5}}, \"orientation\": \"h\", \"showlegend\": false, \"type\": \"bar\", \"x\": [-0.003840161021798849], \"y\": [\"<b>month_June</b>\"]}, {\"customdata\": [\"<b>month_March :</b><br />1.0\"], \"hovertemplate\": \"%{customdata}<br />Contribution: %{x:.4f}<extra></extra>\", \"marker\": {\"color\": \"rgba(74, 99, 138, 0.7)\", \"line\": {\"color\": \"rgba(27, 28, 28, 1.0)\", \"width\": 0.5}}, \"orientation\": \"h\", \"showlegend\": false, \"type\": \"bar\", \"x\": [-0.002381067257374525], \"y\": [\"<b>month_March</b>\"]}, {\"customdata\": [\"<b>month_May :</b><br />0.0\"], \"hovertemplate\": \"%{customdata}<br />Contribution: %{x:.4f}<extra></extra>\", \"marker\": {\"color\": \"rgba(74, 99, 138, 0.7)\", \"line\": {\"color\": \"rgba(27, 28, 28, 1.0)\", \"width\": 0.5}}, \"orientation\": \"h\", \"showlegend\": false, \"type\": \"bar\", \"x\": [-0.0020499408710747957], \"y\": [\"<b>month_May</b>\"]}, {\"customdata\": [\"<b>passenger_count :</b><br />1.0\"], \"hovertemplate\": \"%{customdata}<br />Contribution: %{x:.4f}<extra></extra>\", \"marker\": {\"color\": \"rgba(74, 99, 138, 0.7)\", \"line\": {\"color\": \"rgba(27, 28, 28, 1.0)\", \"width\": 0.5}}, \"orientation\": \"h\", \"showlegend\": false, \"type\": \"bar\", \"x\": [-0.0020152658689767122], \"y\": [\"<b>passenger_count</b>\"]}, {\"customdata\": [\"<b>day_Wednesday :</b><br />0.0\"], \"hovertemplate\": \"%{customdata}<br />Contribution: %{x:.4f}<extra></extra>\", \"marker\": {\"color\": \"rgba(74, 99, 138, 0.7)\", \"line\": {\"color\": \"rgba(27, 28, 28, 1.0)\", \"width\": 0.5}}, \"orientation\": \"h\", \"showlegend\": false, \"type\": \"bar\", \"x\": [-0.0011737932218238711], \"y\": [\"<b>day_Wednesday</b>\"]}, {\"customdata\": [\"<b>vendor_id :</b><br />2.0\"], \"hovertemplate\": \"%{customdata}<br />Contribution: %{x:.4f}<extra></extra>\", \"marker\": {\"color\": \"rgba(74, 99, 138, 0.7)\", \"line\": {\"color\": \"rgba(27, 28, 28, 1.0)\", \"width\": 0.5}}, \"orientation\": \"h\", \"showlegend\": false, \"type\": \"bar\", \"x\": [-0.0009276144555769861], \"y\": [\"<b>vendor_id</b>\"]}, {\"customdata\": [\"<b>day_Tuesday :</b><br />0.0\"], \"hovertemplate\": \"%{customdata}<br />Contribution: %{x:.4f}<extra></extra>\", \"marker\": {\"color\": \"rgba(74, 99, 138, 0.7)\", \"line\": {\"color\": \"rgba(27, 28, 28, 1.0)\", \"width\": 0.5}}, \"orientation\": \"h\", \"showlegend\": false, \"type\": \"bar\", \"x\": [-0.00012318752123974264], \"y\": [\"<b>day_Tuesday</b>\"]}, {\"customdata\": [\"<b>Hidden Positive Contributions</b>\"], \"hovertemplate\": \"%{customdata}<br />Contribution: %{x:.4f}<extra></extra>\", \"marker\": {\"color\": \"rgba(113, 101, 59, 1.0)\", \"line\": {\"color\": \"rgba(52, 55, 54, 0.8)\", \"width\": 0.5}}, \"orientation\": \"h\", \"showlegend\": false, \"type\": \"bar\", \"x\": [0.00013729758211411536], \"y\": [\"<i>Hidden Positive Contributions</i>\"]}, {\"customdata\": [\"<b>month_January :</b><br />0.0\"], \"hovertemplate\": \"%{customdata}<br />Contribution: %{x:.4f}<extra></extra>\", \"marker\": {\"color\": \"rgba(244, 192, 0, 1.0)\", \"line\": {\"color\": \"rgba(52, 55, 54, 0.8)\", \"width\": 0.5}}, \"orientation\": \"h\", \"showlegend\": false, \"type\": \"bar\", \"x\": [0.0016352280508726835], \"y\": [\"<b>month_January</b>\"]}, {\"customdata\": [\"<b>month_February :</b><br />0.0\"], \"hovertemplate\": \"%{customdata}<br />Contribution: %{x:.4f}<extra></extra>\", \"marker\": {\"color\": \"rgba(244, 192, 0, 1.0)\", \"line\": {\"color\": \"rgba(52, 55, 54, 0.8)\", \"width\": 0.5}}, \"orientation\": \"h\", \"showlegend\": false, \"type\": \"bar\", \"x\": [0.00215837056748569], \"y\": [\"<b>month_February</b>\"]}, {\"customdata\": [\"<b>dropoff_longitude :</b><br />0.21517711171668452\"], \"hovertemplate\": \"%{customdata}<br />Contribution: %{x:.4f}<extra></extra>\", \"marker\": {\"color\": \"rgba(244, 192, 0, 1.0)\", \"line\": {\"color\": \"rgba(52, 55, 54, 0.8)\", \"width\": 0.5}}, \"orientation\": \"h\", \"showlegend\": false, \"type\": \"bar\", \"x\": [0.011828424409031868], \"y\": [\"<b>dropoff_longitude</b>\"]}, {\"customdata\": [\"<b>day_Thursday :</b><br />1.0\"], \"hovertemplate\": \"%{customdata}<br />Contribution: %{x:.4f}<extra></extra>\", \"marker\": {\"color\": \"rgba(244, 192, 0, 1.0)\", \"line\": {\"color\": \"rgba(52, 55, 54, 0.8)\", \"width\": 0.5}}, \"orientation\": \"h\", \"showlegend\": false, \"type\": \"bar\", \"x\": [0.01353430189192295], \"y\": [\"<b>day_Thursday</b>\"]}, {\"customdata\": [\"<b>day_Sunday :</b><br />0.0\"], \"hovertemplate\": \"%{customdata}<br />Contribution: %{x:.4f}<extra></extra>\", \"marker\": {\"color\": \"rgba(244, 192, 0, 1.0)\", \"line\": {\"color\": \"rgba(52, 55, 54, 0.8)\", \"width\": 0.5}}, \"orientation\": \"h\", \"showlegend\": false, \"type\": \"bar\", \"x\": [0.015800748020410538], \"y\": [\"<b>day_Sunday</b>\"]}, {\"customdata\": [\"<b>day_Saturday :</b><br />0.0\"], \"hovertemplate\": \"%{customdata}<br />Contribution: %{x:.4f}<extra></extra>\", \"marker\": {\"color\": \"rgba(244, 192, 0, 1.0)\", \"line\": {\"color\": \"rgba(52, 55, 54, 0.8)\", \"width\": 0.5}}, \"orientation\": \"h\", \"showlegend\": false, \"type\": \"bar\", \"x\": [0.016777679324150085], \"y\": [\"<b>day_Saturday</b>\"]}, {\"customdata\": [\"<b>day_Monday :</b><br />0.0\"], \"hovertemplate\": \"%{customdata}<br />Contribution: %{x:.4f}<extra></extra>\", \"marker\": {\"color\": \"rgba(244, 192, 0, 1.0)\", \"line\": {\"color\": \"rgba(52, 55, 54, 0.8)\", \"width\": 0.5}}, \"orientation\": \"h\", \"showlegend\": false, \"type\": \"bar\", \"x\": [0.019387582316994667], \"y\": [\"<b>day_Monday</b>\"]}, {\"customdata\": [\"<b>pickup_latitude :</b><br />0.5735985157184587\"], \"hovertemplate\": \"%{customdata}<br />Contribution: %{x:.4f}<extra></extra>\", \"marker\": {\"color\": \"rgba(244, 192, 0, 1.0)\", \"line\": {\"color\": \"rgba(52, 55, 54, 0.8)\", \"width\": 0.5}}, \"orientation\": \"h\", \"showlegend\": false, \"type\": \"bar\", \"x\": [0.03344722092151642], \"y\": [\"<b>pickup_latitude</b>\"]}, {\"customdata\": [\"<b>dropoff_latitude :</b><br />0.5481784605781286\"], \"hovertemplate\": \"%{customdata}<br />Contribution: %{x:.4f}<extra></extra>\", \"marker\": {\"color\": \"rgba(244, 192, 0, 1.0)\", \"line\": {\"color\": \"rgba(52, 55, 54, 0.8)\", \"width\": 0.5}}, \"orientation\": \"h\", \"showlegend\": false, \"type\": \"bar\", \"x\": [0.05967079475522041], \"y\": [\"<b>dropoff_latitude</b>\"]}, {\"customdata\": [\"<b>pickup_longitude :</b><br />0.14238866843038522\"], \"hovertemplate\": \"%{customdata}<br />Contribution: %{x:.4f}<extra></extra>\", \"marker\": {\"color\": \"rgba(244, 192, 0, 1.0)\", \"line\": {\"color\": \"rgba(52, 55, 54, 0.8)\", \"width\": 0.5}}, \"orientation\": \"h\", \"showlegend\": false, \"type\": \"bar\", \"x\": [0.06618336588144302], \"y\": [\"<b>pickup_longitude</b>\"]}, {\"customdata\": [\"<b>hour :</b><br />12.0\"], \"hovertemplate\": \"%{customdata}<br />Contribution: %{x:.4f}<extra></extra>\", \"marker\": {\"color\": \"rgba(244, 192, 0, 1.0)\", \"line\": {\"color\": \"rgba(52, 55, 54, 0.8)\", \"width\": 0.5}}, \"orientation\": \"h\", \"showlegend\": false, \"type\": \"bar\", \"x\": [0.09244044870138168], \"y\": [\"<b>hour</b>\"]}],                        {\"barmode\": \"group\", \"height\": 550, \"hovermode\": \"closest\", \"margin\": {\"b\": 70, \"l\": 150, \"r\": 20, \"t\": 95}, \"template\": {\"data\": {\"scatter\": [{\"type\": \"scatter\"}]}}, \"title\": {\"font\": {\"color\": \"rgb(50, 50, 50)\", \"family\": \"Arial\", \"size\": 24}, \"text\": \"Local Explanation - Id: <b>331927</b><span style='font-size: 12px;'><br />Predict: <b>3.0980000495910645</b></span>\", \"x\": 0.5, \"xanchor\": \"center\", \"y\": 0.9, \"yanchor\": \"middle\"}, \"width\": 900, \"xaxis\": {\"automargin\": true, \"title\": {\"font\": {\"color\": \"rgb(50, 50, 50)\", \"family\": \"Arial Black\", \"size\": 16}, \"text\": \"Contribution\"}}, \"yaxis\": {\"automargin\": true, \"title\": {\"font\": {\"color\": \"rgb(50, 50, 50)\", \"family\": \"Arial Black\", \"size\": 16}}, \"type\": \"category\"}},                        {\"responsive\": true}                    ).then(function(){\n",
              "                            \n",
              "var gd = document.getElementById('e35c89fa-0a3d-45c1-b281-bb2e21b1e7c9');\n",
              "var x = new MutationObserver(function (mutations, observer) {{\n",
              "        var display = window.getComputedStyle(gd).display;\n",
              "        if (!display || display === 'none') {{\n",
              "            console.log([gd, 'removed!']);\n",
              "            Plotly.purge(gd);\n",
              "            observer.disconnect();\n",
              "        }}\n",
              "}});\n",
              "\n",
              "// Listen for the removal of the full notebook cells\n",
              "var notebookContainer = gd.closest('#notebook-container');\n",
              "if (notebookContainer) {{\n",
              "    x.observe(notebookContainer, {childList: true});\n",
              "}}\n",
              "\n",
              "// Listen for the clearing of the current output cell\n",
              "var outputEl = gd.closest('.output');\n",
              "if (outputEl) {{\n",
              "    x.observe(outputEl, {childList: true});\n",
              "}}\n",
              "\n",
              "                        })                };                            </script>        </div>\n",
              "</body>\n",
              "</html>"
            ]
          },
          "metadata": {}
        }
      ]
    }
  ],
  "metadata": {
    "colab": {
      "collapsed_sections": [],
      "name": "NYC Taxi Trip Time Prediction - Capstone Project.ipynb",
      "provenance": [],
      "include_colab_link": true
    },
    "kernelspec": {
      "display_name": "Python 3",
      "language": "python",
      "name": "python3"
    },
    "language_info": {
      "codemirror_mode": {
        "name": "ipython",
        "version": 3
      },
      "file_extension": ".py",
      "mimetype": "text/x-python",
      "name": "python",
      "nbconvert_exporter": "python",
      "pygments_lexer": "ipython3",
      "version": "3.6.6"
    }
  },
  "nbformat": 4,
  "nbformat_minor": 0
}